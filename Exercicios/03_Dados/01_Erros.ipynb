{
 "cells": [
  {
   "cell_type": "markdown",
   "metadata": {},
   "source": [
    "# Erros e exceções"
   ]
  },
  {
   "cell_type": "markdown",
   "metadata": {},
   "source": [
    "## a) Erro de sintaxe\n",
    "\n",
    "Normalmente aparecem quando utilizamos algo de maneira incorreta.\n",
    "\n"
   ]
  },
  {
   "cell_type": "code",
   "execution_count": 9,
   "metadata": {},
   "outputs": [
    {
     "ename": "SyntaxError",
     "evalue": "expected ':' (3760700239.py, line 8)",
     "output_type": "error",
     "traceback": [
      "\u001b[0;36m  Input \u001b[0;32mIn [9]\u001b[0;36m\u001b[0m\n\u001b[0;31m    if numero_secreto == chute\u001b[0m\n\u001b[0m                              ^\u001b[0m\n\u001b[0;31mSyntaxError\u001b[0m\u001b[0;31m:\u001b[0m expected ':'\n"
     ]
    }
   ],
   "source": [
    "# Conserta o erro e tenta ganhar o jogo.\n",
    "print(\"**************\")\n",
    "print(\"Seja Bem Vindo\")\n",
    "print(\"**************\")\n",
    "numero_secreto = 65\n",
    "chute = input(\"Digite um numero:\")\n",
    "print(\"Você digitou: \",chute)\n",
    "if numero_secreto == chute\n",
    "    print(\"você acertou\")\n",
    "else\n",
    "    print(\"Você errou, Tente novamente\")"
   ]
  },
  {
   "cell_type": "code",
   "execution_count": null,
   "metadata": {},
   "outputs": [
    {
     "ename": "NameError",
     "evalue": "name 'pront' is not defined",
     "output_type": "error",
     "traceback": [
      "\u001b[0;31m---------------------------------------------------------------------------\u001b[0m",
      "\u001b[0;31mNameError\u001b[0m                                 Traceback (most recent call last)",
      "\u001b[1;32m/home/ragy/Envs/python_aulas/src/Exercicios/03_Dados/01_Erros.ipynb Cell 4\u001b[0m in \u001b[0;36m<cell line: 1>\u001b[0;34m()\u001b[0m\n\u001b[0;32m----> <a href='vscode-notebook-cell:/home/ragy/Envs/python_aulas/src/Exercicios/03_Dados/01_Erros.ipynb#W6sZmlsZQ%3D%3D?line=0'>1</a>\u001b[0m pront(\u001b[39m\"\u001b[39m\u001b[39mexemplo de erro de sintaxe\u001b[39m\u001b[39m\"\u001b[39m)\n",
      "\u001b[0;31mNameError\u001b[0m: name 'pront' is not defined"
     ]
    }
   ],
   "source": [
    "# Conserta o codigo\n",
    "pront(\"exemplo de erro de sintaxe\")"
   ]
  },
  {
   "cell_type": "code",
   "execution_count": null,
   "metadata": {},
   "outputs": [],
   "source": [
    "# Conserta o erro\n",
    "print(\"Adicionando dois números, 2 e 3:\")\n",
    "print 2 + 3"
   ]
  },
  {
   "cell_type": "code",
   "execution_count": null,
   "metadata": {},
   "outputs": [],
   "source": [
    "# Coloca o que esta faltando\n",
    "print(Esqueci o sinal de aspas\")"
   ]
  },
  {
   "cell_type": "markdown",
   "metadata": {},
   "source": [
    "## b) Tempo de execução\n",
    "\n",
    "Encontre o erro e corrija.\n"
   ]
  },
  {
   "cell_type": "code",
   "execution_count": null,
   "metadata": {},
   "outputs": [],
   "source": [
    "# Conserta o erro\n",
    "print(\"**************\")\n",
    "print(\"Seja Bem Vindo\")\n",
    "print(\"**************\")\n",
    "numero_secreto = '65'\n",
    "chute = int(input(\"Digite um numero:\"))\n",
    "print(\"Você digitou: \",chute)\n",
    "if numero_secreto == chute\n",
    "    print(\"você acertou\")\n",
    "else\n",
    "    print(\"Você errou, Tente novamente\")"
   ]
  },
  {
   "cell_type": "code",
   "execution_count": null,
   "metadata": {},
   "outputs": [
    {
     "ename": "TypeError",
     "evalue": "can only concatenate str (not \"int\") to str",
     "output_type": "error",
     "traceback": [
      "\u001b[0;31m---------------------------------------------------------------------------\u001b[0m",
      "\u001b[0;31mTypeError\u001b[0m                                 Traceback (most recent call last)",
      "\u001b[1;32m/home/ragy/Envs/python_aulas/src/Exercicios/03_Dados/01_Erros.ipynb Cell 9\u001b[0m in \u001b[0;36m<cell line: 3>\u001b[0;34m()\u001b[0m\n\u001b[1;32m      <a href='vscode-notebook-cell:/home/ragy/Envs/python_aulas/src/Exercicios/03_Dados/01_Erros.ipynb#X12sZmlsZQ%3D%3D?line=0'>1</a>\u001b[0m a \u001b[39m=\u001b[39m \u001b[39m'\u001b[39m\u001b[39m3\u001b[39m\u001b[39m'\u001b[39m\n\u001b[1;32m      <a href='vscode-notebook-cell:/home/ragy/Envs/python_aulas/src/Exercicios/03_Dados/01_Erros.ipynb#X12sZmlsZQ%3D%3D?line=1'>2</a>\u001b[0m b \u001b[39m=\u001b[39m \u001b[39m4\u001b[39m\n\u001b[0;32m----> <a href='vscode-notebook-cell:/home/ragy/Envs/python_aulas/src/Exercicios/03_Dados/01_Erros.ipynb#X12sZmlsZQ%3D%3D?line=2'>3</a>\u001b[0m \u001b[39mprint\u001b[39m(\u001b[39mf\u001b[39m\u001b[39m'\u001b[39m\u001b[39mA soma de a + b é: \u001b[39m\u001b[39m{\u001b[39;00ma\u001b[39m+\u001b[39mb\u001b[39m}\u001b[39;00m\u001b[39m'\u001b[39m)\n",
      "\u001b[0;31mTypeError\u001b[0m: can only concatenate str (not \"int\") to str"
     ]
    }
   ],
   "source": [
    "# Se tudo parece correto qual é o erro?\n",
    "a = '3'\n",
    "b = 4\n",
    "print(f'A soma de a + b é: {a+b}')"
   ]
  },
  {
   "cell_type": "code",
   "execution_count": null,
   "metadata": {},
   "outputs": [
    {
     "ename": "TypeError",
     "evalue": "can only concatenate list (not \"int\") to list",
     "output_type": "error",
     "traceback": [
      "\u001b[0;31m---------------------------------------------------------------------------\u001b[0m",
      "\u001b[0;31mTypeError\u001b[0m                                 Traceback (most recent call last)",
      "\u001b[1;32m/home/ragy/Envs/python_aulas/src/Exercicios/03_Dados/01_Erros.ipynb Cell 10\u001b[0m in \u001b[0;36m<cell line: 4>\u001b[0;34m()\u001b[0m\n\u001b[1;32m      <a href='vscode-notebook-cell:/home/ragy/Envs/python_aulas/src/Exercicios/03_Dados/01_Erros.ipynb#X15sZmlsZQ%3D%3D?line=0'>1</a>\u001b[0m a \u001b[39m=\u001b[39m [\u001b[39m4\u001b[39m]\n\u001b[1;32m      <a href='vscode-notebook-cell:/home/ragy/Envs/python_aulas/src/Exercicios/03_Dados/01_Erros.ipynb#X15sZmlsZQ%3D%3D?line=1'>2</a>\u001b[0m b \u001b[39m=\u001b[39m \u001b[39m3\u001b[39m\n\u001b[0;32m----> <a href='vscode-notebook-cell:/home/ragy/Envs/python_aulas/src/Exercicios/03_Dados/01_Erros.ipynb#X15sZmlsZQ%3D%3D?line=3'>4</a>\u001b[0m \u001b[39mif\u001b[39;00m a\u001b[39m+\u001b[39;49mb \u001b[39m==\u001b[39m[\u001b[39m3\u001b[39m,\u001b[39m4\u001b[39m]:\n\u001b[1;32m      <a href='vscode-notebook-cell:/home/ragy/Envs/python_aulas/src/Exercicios/03_Dados/01_Erros.ipynb#X15sZmlsZQ%3D%3D?line=4'>5</a>\u001b[0m     \u001b[39mprint\u001b[39m(a\u001b[39m+\u001b[39mb)\n",
      "\u001b[0;31mTypeError\u001b[0m: can only concatenate list (not \"int\") to list"
     ]
    }
   ],
   "source": [
    "# Qual é o problema?\n",
    "\n",
    "a = [4]\n",
    "b = 3\n",
    "\n",
    "if a+b == [3, 4]:\n",
    "    print(a+b)"
   ]
  },
  {
   "cell_type": "markdown",
   "metadata": {},
   "source": [
    "## c) Erro de semântica\n",
    "\n"
   ]
  },
  {
   "cell_type": "code",
   "execution_count": null,
   "metadata": {},
   "outputs": [
    {
     "name": "stdout",
     "output_type": "stream",
     "text": [
      "O produto de a e b é: 3333\n"
     ]
    }
   ],
   "source": [
    "# O que esta acontecendo para ter um retorno errado\n",
    "a = '3'\n",
    "b = 4\n",
    "print(f'O produto de a e b é: {a*b}')"
   ]
  },
  {
   "cell_type": "code",
   "execution_count": 14,
   "metadata": {},
   "outputs": [
    {
     "name": "stdout",
     "output_type": "stream",
     "text": [
      "Algo de errado não esta certo!\n",
      "Eu queria a resposta de 3*4\n"
     ]
    }
   ],
   "source": [
    "a = [4]\n",
    "b = 3\n",
    "\n",
    "if not list(a*b):\n",
    "    print(a*b)\n",
    "else:\n",
    "    print('Algo de errado não esta certo!')\n",
    "    print('Eu queria a resposta de 3*4')"
   ]
  },
  {
   "cell_type": "markdown",
   "metadata": {},
   "source": [
    "## Retorno ao [sumário](./Resumo.md)"
   ]
  }
 ],
 "metadata": {
  "kernelspec": {
   "display_name": "Python 3.10.4 64-bit",
   "language": "python",
   "name": "python3"
  },
  "language_info": {
   "codemirror_mode": {
    "name": "ipython",
    "version": 3
   },
   "file_extension": ".py",
   "mimetype": "text/x-python",
   "name": "python",
   "nbconvert_exporter": "python",
   "pygments_lexer": "ipython3",
   "version": "3.8.10"
  },
  "orig_nbformat": 4,
  "vscode": {
   "interpreter": {
    "hash": "916dbcbb3f70747c44a77c7bcd40155683ae19c65e1c03b4aa3499c5328201f1"
   }
  }
 },
 "nbformat": 4,
 "nbformat_minor": 2
}
