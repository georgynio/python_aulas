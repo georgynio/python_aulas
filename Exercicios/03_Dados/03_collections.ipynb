{
 "cells": [
  {
   "cell_type": "markdown",
   "metadata": {},
   "source": [
    "# Collections\n",
    "\n",
    "Modulo do Python que providencia diferentes tipos de container.\n",
    "Entre eles:\n",
    "* tuplas\n",
    "* listas\n",
    "* Dicionarios"
   ]
  },
  {
   "cell_type": "code",
   "execution_count": 1,
   "metadata": {},
   "outputs": [
    {
     "name": "stdout",
     "output_type": "stream",
     "text": [
      "['ChainMap', 'Counter', 'OrderedDict', 'UserDict', 'UserList', 'UserString', '_Link', '_OrderedDictItemsView', '_OrderedDictKeysView', '_OrderedDictValuesView', '__all__', '__builtins__', '__cached__', '__doc__', '__file__', '__getattr__', '__loader__', '__name__', '__package__', '__path__', '__spec__', '_chain', '_collections_abc', '_count_elements', '_eq', '_heapq', '_iskeyword', '_itemgetter', '_proxy', '_recursive_repr', '_repeat', '_starmap', '_sys', '_tuplegetter', 'abc', 'defaultdict', 'deque', 'namedtuple']\n"
     ]
    }
   ],
   "source": [
    "import collections\n",
    "print(dir(collections))"
   ]
  },
  {
   "cell_type": "markdown",
   "metadata": {},
   "source": [
    "## Counter\n",
    "Sub classe de dicionario."
   ]
  },
  {
   "cell_type": "code",
   "execution_count": 2,
   "metadata": {},
   "outputs": [
    {
     "name": "stdout",
     "output_type": "stream",
     "text": [
      "Counter({'B': 5, 'A': 3, 'C': 2})\n",
      "Counter({'B': 5, 'A': 3, 'C': 2})\n",
      "Counter({'B': 5, 'A': 3, 'C': 2})\n"
     ]
    }
   ],
   "source": [
    "from collections import Counter\n",
    "\t\n",
    "print(Counter(['B','B','A','B','C','A','B',\n",
    "\t\t\t'B','A','C']))\n",
    "\t\n",
    "print(Counter({'A':3, 'B':5, 'C':2}))\n",
    "\t\n",
    "print(Counter(A=3, B=5, C=2))\n"
   ]
  },
  {
   "cell_type": "markdown",
   "metadata": {},
   "source": [
    "## OrderedDict\n",
    "Mantem a ordem de um dicionario."
   ]
  },
  {
   "cell_type": "code",
   "execution_count": 3,
   "metadata": {},
   "outputs": [
    {
     "name": "stdout",
     "output_type": "stream",
     "text": [
      "This is a Dict:\n",
      "\n",
      "a 1\n",
      "b 2\n",
      "c 3\n",
      "d 4\n",
      "\n",
      "This is an Ordered Dict:\n",
      "\n",
      "a 1\n",
      "b 2\n",
      "c 3\n",
      "d 4\n"
     ]
    }
   ],
   "source": [
    "from collections import OrderedDict\n",
    "\t\n",
    "print(\"This is a Dict:\\n\")\n",
    "d = {}\n",
    "d['a'] = 1\n",
    "d['b'] = 2\n",
    "d['c'] = 3\n",
    "d['d'] = 4\n",
    "\t\n",
    "for key, value in d.items():\n",
    "\tprint(key, value)\n",
    "\t\n",
    "print(\"\\nThis is an Ordered Dict:\\n\")\n",
    "od = OrderedDict()\n",
    "od['a'] = 1\n",
    "od['b'] = 2\n",
    "od['c'] = 3\n",
    "od['d'] = 4\n",
    "\t\n",
    "for key, value in od.items():\n",
    "\tprint(key, value)\n"
   ]
  },
  {
   "cell_type": "code",
   "execution_count": 4,
   "metadata": {},
   "outputs": [
    {
     "name": "stdout",
     "output_type": "stream",
     "text": [
      "Before Deleting\n",
      "a 1\n",
      "b 2\n",
      "c 3\n",
      "d 4\n",
      "\n",
      "After re-inserting\n",
      "b 2\n",
      "c 3\n",
      "d 4\n",
      "a 1\n"
     ]
    }
   ],
   "source": [
    "from collections import OrderedDict\n",
    "\n",
    "\n",
    "od = OrderedDict()\n",
    "od['a'] = 1\n",
    "od['b'] = 2\n",
    "od['c'] = 3\n",
    "od['d'] = 4\n",
    "\t\n",
    "print('Before Deleting')\n",
    "for key, value in od.items():\n",
    "\tprint(key, value)\n",
    "\t\n",
    "# deleting element\n",
    "od.pop('a')\n",
    "\n",
    "# Re-inserting the same\n",
    "od['a'] = 1\n",
    "\n",
    "print('\\nAfter re-inserting')\n",
    "for key, value in od.items():\n",
    "\tprint(key, value)\n"
   ]
  },
  {
   "cell_type": "markdown",
   "metadata": {},
   "source": [
    "## Trabalinho\n",
    "\n",
    "Fazer uma função analoga ao processo do `Counter`, com os seguintes dados:\n",
    "\n",
    "```python\n",
    "arr = [1, 1, 1, 1, 2, 2, 2, 2, 3, 3, 4, 5, 5]\n",
    "\n",
    "```"
   ]
  },
  {
   "cell_type": "markdown",
   "metadata": {},
   "source": [
    "## Retornar ao [Resumo](./Resumo.md)"
   ]
  }
 ],
 "metadata": {
  "kernelspec": {
   "display_name": "Python 3.9.13 ('python_aulas')",
   "language": "python",
   "name": "python3"
  },
  "language_info": {
   "codemirror_mode": {
    "name": "ipython",
    "version": 3
   },
   "file_extension": ".py",
   "mimetype": "text/x-python",
   "name": "python",
   "nbconvert_exporter": "python",
   "pygments_lexer": "ipython3",
   "version": "3.9.13"
  },
  "orig_nbformat": 4,
  "vscode": {
   "interpreter": {
    "hash": "f565761bc3466c09e61fd6c158436d1d80be7935aec86c410a4c98cce3fe16c3"
   }
  }
 },
 "nbformat": 4,
 "nbformat_minor": 2
}
