{
 "cells": [
  {
   "cell_type": "markdown",
   "metadata": {},
   "source": [
    "# Formato\n",
    "Impressão com formato em Python"
   ]
  },
  {
   "cell_type": "code",
   "execution_count": 12,
   "metadata": {},
   "outputs": [],
   "source": [
    "# definindo o dicionario\n",
    "dict1 = {1: [\"Samuel\", 21,'Data Structures'],\n",
    "     2: [\"Richie\", 20,'Machine Learning'],\n",
    "     3: [\"Lauren\", 21,'OOPS with java'],\n",
    "     }"
   ]
  },
  {
   "cell_type": "code",
   "execution_count": 14,
   "metadata": {},
   "outputs": [
    {
     "name": "stdout",
     "output_type": "stream",
     "text": [
      "NOME       IDADE      CORSO     \n",
      "Samuel     21         Data Structures\n",
      "Richie     20         Machine Learning\n",
      "Lauren     21         OOPS with java\n"
     ]
    }
   ],
   "source": [
    "# format\n",
    "print (\"{:<10} {:<10} {:<10}\".format('NOME', 'IDADE', 'CORSO'))\n",
    " \n",
    "# impressão de cada elemento\n",
    "for chave, valor in dict1.items():\n",
    "    nome, idade, curso = valor\n",
    "    print(\"{:<10} {:<10} {:<10}\".format(nome, idade, curso))"
   ]
  },
  {
   "cell_type": "code",
   "execution_count": 31,
   "metadata": {},
   "outputs": [
    {
     "name": "stdout",
     "output_type": "stream",
     "text": [
      "NOME       IDADE      CURSO     \n",
      "Samuel     21         Data Structures\n",
      "Richie     20         Machine Learning\n",
      "Lauren     21         OOPS with java\n"
     ]
    }
   ],
   "source": [
    "# format_map\n",
    "cabecalho = {'x':'NOME', 'y':'IDADE', 'z':'CURSO'}\n",
    "print('{x:<10} {y:<10} {z:<10}'.format_map(cabecalho))\n",
    "\n",
    "for chave, valor in dict1.items():\n",
    "    # neste caso levamos os elementos dentro de um dicionario \n",
    "    # apenas para ajustar às exigencias do format_map\n",
    "    valor_n = {'nome':valor[0], 'idade':valor[1], 'curso':valor[2]}\n",
    "\n",
    "    print('{nome:<10} {idade:<10} {curso:<10}'.format_map(valor_n))\n"
   ]
  },
  {
   "cell_type": "code",
   "execution_count": 27,
   "metadata": {},
   "outputs": [
    {
     "name": "stdout",
     "output_type": "stream",
     "text": [
      "      NOME      IDADE      CORSO\n",
      "    Samuel         21 Data Structures\n",
      "    Richie         20 Machine Learning\n",
      "    Lauren         21 OOPS with java\n"
     ]
    }
   ],
   "source": [
    "# formatação - C\n",
    "print (\"%10s %10s %10s\"%('NOME', 'IDADE', 'CORSO'))\n",
    "\n",
    "for chave, valor in dict1.items():\n",
    "    nome, idade, curso = valor\n",
    "    print(\"%10s %10s %10s\"%(nome, idade, curso))"
   ]
  },
  {
   "cell_type": "code",
   "execution_count": 30,
   "metadata": {},
   "outputs": [
    {
     "name": "stdout",
     "output_type": "stream",
     "text": [
      "NOME       IDADE      CURSO     \n",
      "Samuel     21         Data Structures\n",
      "Richie     20         Machine Learning\n",
      "Lauren     21         OOPS with java\n"
     ]
    }
   ],
   "source": [
    "# f-string\n",
    "print (f\"{'NOME':<10} {'IDADE':<10} {'CURSO':<10}\")\n",
    "\n",
    "for chave, valor in dict1.items():\n",
    "    nome, idade, curso = valor\n",
    "    print(f'{nome:<10} {idade:<10} {curso:<10}')\n"
   ]
  },
  {
   "cell_type": "markdown",
   "metadata": {},
   "source": [
    "## Trabalinho\n",
    "\n",
    "Cria uma **função** que retorna os dados do arquivo [agricultura](./../dados/agricultura-produo-brasil.csv) formatado.\n",
    "\n",
    "Retornando da seguinte forma:\n",
    "```python\n",
    "Fruta    | Quantidade | Preço\n",
    "----------------------------------\n",
    " Lima    |        100 |  32.20 $R\n",
    " Laranja |         50 |  91.10 $R\n",
    " Caqui   |        150 | 103.44 $R\n",
    "\n",
    "```"
   ]
  },
  {
   "cell_type": "markdown",
   "metadata": {},
   "source": []
  }
 ],
 "metadata": {
  "kernelspec": {
   "display_name": "Python 3.9.13 ('python_aulas': venv)",
   "language": "python",
   "name": "python3"
  },
  "language_info": {
   "codemirror_mode": {
    "name": "ipython",
    "version": 3
   },
   "file_extension": ".py",
   "mimetype": "text/x-python",
   "name": "python",
   "nbconvert_exporter": "python",
   "pygments_lexer": "ipython3",
   "version": "3.9.13"
  },
  "orig_nbformat": 4,
  "vscode": {
   "interpreter": {
    "hash": "f565761bc3466c09e61fd6c158436d1d80be7935aec86c410a4c98cce3fe16c3"
   }
  }
 },
 "nbformat": 4,
 "nbformat_minor": 2
}
