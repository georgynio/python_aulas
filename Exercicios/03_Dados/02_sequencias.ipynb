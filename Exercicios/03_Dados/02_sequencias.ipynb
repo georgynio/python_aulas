{
 "cells": [
  {
   "cell_type": "markdown",
   "metadata": {},
   "source": [
    "# Sequências\n",
    "\n",
    "Conjunto de elementos ordenados que podem ser acessados em sua ordem.\n",
    "\n",
    "* String\n",
    "* Lista\n",
    "* Tuple"
   ]
  },
  {
   "cell_type": "code",
   "execution_count": 1,
   "metadata": {},
   "outputs": [
    {
     "name": "stdout",
     "output_type": "stream",
     "text": [
      "é\n"
     ]
    }
   ],
   "source": [
    "# string\n",
    "\n",
    "print('Qual é seu nome'[5])\n",
    "\n",
    "# seleciona uma parte da string\n",
    "print('Qual é seu nome')\n",
    "\n",
    "# seleciona desde o começo até o elemento 8\n",
    "print('Qual é seu nome')\n",
    "\n",
    "# seleciona desde o elemento 3 até o final\n",
    "print('Qual é seu nome')"
   ]
  },
  {
   "cell_type": "code",
   "execution_count": null,
   "metadata": {},
   "outputs": [],
   "source": [
    "# listas\n",
    "\n",
    "# range(inicio, fim, passo)\n",
    "\n",
    "# []\n",
    "\n",
    "# split()"
   ]
  },
  {
   "cell_type": "markdown",
   "metadata": {},
   "source": [
    "Escreva uma função que receba uma sequência de números e determine se todos os números são iguais ou diferentes.\n",
    "* Resultado deve ser: `True` ou `False`"
   ]
  },
  {
   "cell_type": "code",
   "execution_count": null,
   "metadata": {},
   "outputs": [],
   "source": [
    "seq_num_1 = [2, 4, 5, 7 ,9]\n",
    "seq_num_2 = [2, 4, 5, 5, 7 ,9]\n",
    "\n",
    "def test_diferente(lista):\n",
    "    ...\n",
    "    \n",
    "print(test_diferente(seq_num_1))"
   ]
  },
  {
   "cell_type": "markdown",
   "metadata": {},
   "source": [
    "Escrever uma função que retorna o tipo de elemento que compõe uma sequência.\n",
    "* Por exemplo:\n",
    "```python\n",
    "lista_en = [1, '2']\n",
    "resultado = ['int', 'str']\n",
    "```"
   ]
  },
  {
   "cell_type": "code",
   "execution_count": null,
   "metadata": {},
   "outputs": [],
   "source": [
    "lista_en = [1, 1, 2, '2', '4', 'a']\n",
    "def id_seq(lista):\n",
    "    ...\n",
    "\n",
    "print(id_seq(lista_en))"
   ]
  },
  {
   "cell_type": "markdown",
   "metadata": {},
   "source": [
    "# Trabalinho\n",
    "\n",
    "Com os dados [de poluição](./../dados/2020ES.csv) cria um dicionario que que receba as 10 primeiras linhas, e o nome da chave seja a hora.\n",
    "* Por exemplo:\n",
    "```python\n",
    "{'00:30': ['Carapina', 'ES01', 'MP10', 10, 'ug/m3', 'automatica']}\n",
    "```"
   ]
  },
  {
   "cell_type": "markdown",
   "metadata": {},
   "source": [
    "## Retorno ao [sumário](./Resumo.md)"
   ]
  }
 ],
 "metadata": {
  "kernelspec": {
   "display_name": "Python 3.10.4 64-bit",
   "language": "python",
   "name": "python3"
  },
  "language_info": {
   "codemirror_mode": {
    "name": "ipython",
    "version": 3
   },
   "file_extension": ".py",
   "mimetype": "text/x-python",
   "name": "python",
   "nbconvert_exporter": "python",
   "pygments_lexer": "ipython3",
   "version": "3.8.10"
  },
  "orig_nbformat": 4,
  "vscode": {
   "interpreter": {
    "hash": "916dbcbb3f70747c44a77c7bcd40155683ae19c65e1c03b4aa3499c5328201f1"
   }
  }
 },
 "nbformat": 4,
 "nbformat_minor": 2
}
