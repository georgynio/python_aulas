{
 "cells": [
  {
   "cell_type": "markdown",
   "metadata": {},
   "source": [
    "# Sequências\n",
    "\n",
    "Conjunto de elementos ordenados que podem ser acessados em sua ordem.\n",
    "\n",
    "* String\n",
    "* Lista\n",
    "* Tuple"
   ]
  },
  {
   "cell_type": "code",
   "execution_count": 1,
   "metadata": {},
   "outputs": [
    {
     "name": "stdout",
     "output_type": "stream",
     "text": [
      "é\n"
     ]
    }
   ],
   "source": [
    "# string\n",
    "\n",
    "print('Qual é seu nome'[5])\n",
    "\n",
    "# seleciona uma parte da string\n",
    "print('Qual é seu nome')\n",
    "\n",
    "# seleciona desde o começo até o elemento 8\n",
    "print('Qual é seu nome')\n",
    "\n",
    "# seleciona desde o elemento 3 até o final\n",
    "print('Qual é seu nome')"
   ]
  },
  {
   "cell_type": "code",
   "execution_count": null,
   "metadata": {},
   "outputs": [],
   "source": [
    "# listas\n",
    "\n",
    "# range(inicio, fim, passo)\n",
    "\n",
    "# []\n",
    "\n",
    "# split()"
   ]
  }
 ],
 "metadata": {
  "kernelspec": {
   "display_name": "Python 3.10.4 64-bit",
   "language": "python",
   "name": "python3"
  },
  "language_info": {
   "codemirror_mode": {
    "name": "ipython",
    "version": 3
   },
   "file_extension": ".py",
   "mimetype": "text/x-python",
   "name": "python",
   "nbconvert_exporter": "python",
   "pygments_lexer": "ipython3",
   "version": "3.10.4"
  },
  "orig_nbformat": 4,
  "vscode": {
   "interpreter": {
    "hash": "916dbcbb3f70747c44a77c7bcd40155683ae19c65e1c03b4aa3499c5328201f1"
   }
  }
 },
 "nbformat": 4,
 "nbformat_minor": 2
}
