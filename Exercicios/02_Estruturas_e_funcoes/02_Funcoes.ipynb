{
 "cells": [
  {
   "cell_type": "markdown",
   "metadata": {},
   "source": [
    "# Funções"
   ]
  },
  {
   "cell_type": "markdown",
   "metadata": {},
   "source": [
    "## Funções Personalizadas"
   ]
  },
  {
   "cell_type": "code",
   "execution_count": 5,
   "metadata": {},
   "outputs": [],
   "source": [
    "def soma(n):\n",
    "    '''\n",
    "    Retorna a soma dos primeiros n inteiros\n",
    "    '''\n",
    "    total = 0\n",
    "    while n > 0:\n",
    "        total += n\n",
    "        n -= 1\n",
    "    return total"
   ]
  },
  {
   "cell_type": "markdown",
   "metadata": {},
   "source": [
    "Como o utilizamos?"
   ]
  },
  {
   "cell_type": "code",
   "execution_count": 7,
   "metadata": {},
   "outputs": [
    {
     "name": "stdout",
     "output_type": "stream",
     "text": [
      "soma de a: 5050\n",
      "soma de b: 21\n"
     ]
    }
   ],
   "source": [
    "a = 100\n",
    "b = 6\n",
    "\n",
    "c = soma(a)\n",
    "d = soma(b)\n",
    "\n",
    "print(f'soma de a: {c}')\n",
    "print(f'soma de b: {d}')"
   ]
  },
  {
   "cell_type": "markdown",
   "metadata": {},
   "source": [
    "## Funções de bibliotecas"
   ]
  },
  {
   "cell_type": "code",
   "execution_count": 11,
   "metadata": {},
   "outputs": [
    {
     "name": "stdout",
     "output_type": "stream",
     "text": [
      "2.718281828459045\n",
      "8.0\n",
      "4.0\n",
      "8\n",
      "(2+0j)\n"
     ]
    }
   ],
   "source": [
    "from cmath import sqrt\n",
    "import math\n",
    "\n",
    "print(math.e)\n",
    "print(math.pow(2,3))\n",
    "print(math.sqrt(16))\n",
    "\n",
    "print(pow(2,3))\n",
    "\n",
    "print(sqrt(4))"
   ]
  },
  {
   "cell_type": "markdown",
   "metadata": {},
   "source": [
    "**Exercicio:** Escreve uma função que retorne a raiz `n` de um número `x`\n",
    "\n",
    "O resultado deve ter a seguinte estrutura:\n",
    "- A raiz `n` de `x` é `y`. Por exemplo: A raiz 3 de 27 é 3."
   ]
  },
  {
   "cell_type": "code",
   "execution_count": null,
   "metadata": {},
   "outputs": [],
   "source": [
    "def raiz_n(numero, raiz):\n",
    "    pass"
   ]
  },
  {
   "cell_type": "markdown",
   "metadata": {},
   "source": [
    "**Exercicio:** Escreve uma função que calcula idade de uma pessoa a partir do ano de nascimento.\n",
    "\n",
    "Esta função deve retornar um texto informando a idade da pessoa em algum ano."
   ]
  },
  {
   "cell_type": "code",
   "execution_count": null,
   "metadata": {},
   "outputs": [],
   "source": [
    "def idade(naceu, ano):\n",
    "    # naceu: ano em que naceu\n",
    "    # ano: quantos anos tinha em ...\n",
    "    pass"
   ]
  },
  {
   "cell_type": "markdown",
   "metadata": {},
   "source": [
    "**Exercicios:** \n",
    "- Escreve uma função que calcule a potencia de um número a partir de somas.\n",
    "- Escreve uma função que faça a tabela de multiplicar de um número."
   ]
  }
 ],
 "metadata": {
  "kernelspec": {
   "display_name": "Python 3.10.4 64-bit",
   "language": "python",
   "name": "python3"
  },
  "language_info": {
   "codemirror_mode": {
    "name": "ipython",
    "version": 3
   },
   "file_extension": ".py",
   "mimetype": "text/x-python",
   "name": "python",
   "nbconvert_exporter": "python",
   "pygments_lexer": "ipython3",
   "version": "3.10.4"
  },
  "orig_nbformat": 4,
  "vscode": {
   "interpreter": {
    "hash": "916dbcbb3f70747c44a77c7bcd40155683ae19c65e1c03b4aa3499c5328201f1"
   }
  }
 },
 "nbformat": 4,
 "nbformat_minor": 2
}
