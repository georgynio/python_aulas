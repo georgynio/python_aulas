{
 "cells": [
  {
   "cell_type": "markdown",
   "metadata": {},
   "source": [
    "# Gerenciamento de arquivos"
   ]
  },
  {
   "cell_type": "code",
   "execution_count": 4,
   "metadata": {},
   "outputs": [],
   "source": [
    "file_csv = open('./../../Exercicios/dados/2020ES.csv', 'r')\n",
    "# file_csv = open('./../../Exercicios/dados/2020ES.csv', 'r', encoding='cp1252')"
   ]
  },
  {
   "cell_type": "markdown",
   "metadata": {},
   "source": [
    "## Encoding\n",
    "\n",
    "Os programas precisam lidar com uma variedade de caracteres. **[Unicode](https://docs.python.org/pt-br/3/howto/unicode.html) é a especificação que visa listar cada caractere utilizado pelos idiomas humanos e dar a cada caractere um código único**\n",
    "\n",
    "Uma string  é uma sequência de números de 0 a 0x10FFFF (1.114.111 decimal). Essa sequência de pontos de código precisa ser representada na memória como um conjunto de unidades de código e as unidades de código são então mapeadas para bytes de 8 bits.\n",
    "\n",
    "> As regras para traduzir uma string Unicode em uma sequência de bytes são chamadas de codificação de caracteres ou apenas codificação.\n"
   ]
  },
  {
   "cell_type": "code",
   "execution_count": 5,
   "metadata": {},
   "outputs": [
    {
     "ename": "UnicodeDecodeError",
     "evalue": "'utf-8' codec can't decode byte 0xe1 in position 478381: invalid continuation byte",
     "output_type": "error",
     "traceback": [
      "\u001b[0;31m---------------------------------------------------------------------------\u001b[0m",
      "\u001b[0;31mUnicodeDecodeError\u001b[0m                        Traceback (most recent call last)",
      "\u001b[1;32m/home/georgynio/Envs/python_aulas/src/Exercicios/02_Estruturas_e_funcoes/01_Arquivos.ipynb Cell 3\u001b[0m in \u001b[0;36m<cell line: 1>\u001b[0;34m()\u001b[0m\n\u001b[0;32m----> <a href='vscode-notebook-cell:/home/georgynio/Envs/python_aulas/src/Exercicios/02_Estruturas_e_funcoes/01_Arquivos.ipynb#ch0000002?line=0'>1</a>\u001b[0m data \u001b[39m=\u001b[39m file_csv\u001b[39m.\u001b[39;49mread()\n",
      "File \u001b[0;32m/usr/lib/python3.9/codecs.py:322\u001b[0m, in \u001b[0;36mBufferedIncrementalDecoder.decode\u001b[0;34m(self, input, final)\u001b[0m\n\u001b[1;32m    319\u001b[0m \u001b[39mdef\u001b[39;00m \u001b[39mdecode\u001b[39m(\u001b[39mself\u001b[39m, \u001b[39minput\u001b[39m, final\u001b[39m=\u001b[39m\u001b[39mFalse\u001b[39;00m):\n\u001b[1;32m    320\u001b[0m     \u001b[39m# decode input (taking the buffer into account)\u001b[39;00m\n\u001b[1;32m    321\u001b[0m     data \u001b[39m=\u001b[39m \u001b[39mself\u001b[39m\u001b[39m.\u001b[39mbuffer \u001b[39m+\u001b[39m \u001b[39minput\u001b[39m\n\u001b[0;32m--> 322\u001b[0m     (result, consumed) \u001b[39m=\u001b[39m \u001b[39mself\u001b[39;49m\u001b[39m.\u001b[39;49m_buffer_decode(data, \u001b[39mself\u001b[39;49m\u001b[39m.\u001b[39;49merrors, final)\n\u001b[1;32m    323\u001b[0m     \u001b[39m# keep undecoded input until the next call\u001b[39;00m\n\u001b[1;32m    324\u001b[0m     \u001b[39mself\u001b[39m\u001b[39m.\u001b[39mbuffer \u001b[39m=\u001b[39m data[consumed:]\n",
      "\u001b[0;31mUnicodeDecodeError\u001b[0m: 'utf-8' codec can't decode byte 0xe1 in position 478381: invalid continuation byte"
     ]
    }
   ],
   "source": [
    "data = file_csv.read()"
   ]
  },
  {
   "cell_type": "markdown",
   "metadata": {},
   "source": [
    "## O que acontece com o cobeçalho dos script?\n",
    "\n",
    "> `# -*- coding: utf-8 -*-`\n",
    "\n",
    "Setar o encoding no início do programa-fonte serve única e\n",
    "exclusivamente para que o Python saiba como interpretar os caracteres\n",
    "não-ASCII do seu código-fonte. Isto não define o encoding na hora de ler um arquivo."
   ]
  },
  {
   "cell_type": "code",
   "execution_count": null,
   "metadata": {},
   "outputs": [],
   "source": [
    "with open('./../../Exercicios/dados/2020ES.csv', 'r') as file:\n",
    "    data = file.read()\n",
    "    \n"
   ]
  },
  {
   "cell_type": "markdown",
   "metadata": {},
   "source": [
    "## Retorno ao [sumário](./Resumo.md)"
   ]
  }
 ],
 "metadata": {
  "kernelspec": {
   "display_name": "Python 3.10.4 64-bit",
   "language": "python",
   "name": "python3"
  },
  "language_info": {
   "codemirror_mode": {
    "name": "ipython",
    "version": 3
   },
   "file_extension": ".py",
   "mimetype": "text/x-python",
   "name": "python",
   "nbconvert_exporter": "python",
   "pygments_lexer": "ipython3",
   "version": "3.8.10"
  },
  "orig_nbformat": 4,
  "vscode": {
   "interpreter": {
    "hash": "916dbcbb3f70747c44a77c7bcd40155683ae19c65e1c03b4aa3499c5328201f1"
   }
  }
 },
 "nbformat": 4,
 "nbformat_minor": 2
}
