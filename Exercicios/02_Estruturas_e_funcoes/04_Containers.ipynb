{
 "cells": [
  {
   "cell_type": "markdown",
   "metadata": {},
   "source": [
    "# Conteiners"
   ]
  },
  {
   "cell_type": "code",
   "execution_count": 1,
   "metadata": {},
   "outputs": [
    {
     "data": {
      "text/plain": [
       "('Pera', 100, 490, 1)"
      ]
     },
     "execution_count": 1,
     "metadata": {},
     "output_type": "execute_result"
    }
   ],
   "source": [
    "caminhao = [\n",
    "    ('Pera', 100, 490.1),\n",
    "    ('Laranja', 50, 91.3),\n",
    "    ('Limão', 150, 83.44)\n",
    "]\n",
    "print(caminhao[0])"
   ]
  },
  {
   "cell_type": "markdown",
   "metadata": {},
   "source": [
    "Vamos a praticar com a lista de elementos do caminhão e formatar a impressão em tela."
   ]
  },
  {
   "cell_type": "code",
   "execution_count": 4,
   "metadata": {},
   "outputs": [
    {
     "name": "stdout",
     "output_type": "stream",
     "text": [
      "('Pera', 100, 490, 1)\n",
      "('Laranja', 50, 91, 3)\n",
      "('Limão', 150, 83, 44)\n"
     ]
    }
   ],
   "source": [
    "# organizando em colunas\n",
    "for i in caminhao:\n",
    "    print(i)"
   ]
  },
  {
   "cell_type": "code",
   "execution_count": 2,
   "metadata": {},
   "outputs": [
    {
     "name": "stdout",
     "output_type": "stream",
     "text": [
      "('Pera', 100, 490, 1)\n",
      "('Laranja', 50, 91, 3)\n",
      "('Limão', 150, 83, 44)\n"
     ]
    }
   ],
   "source": [
    "# colocando os nomes as colunas\n",
    "colunas = ['Fruta','Quantidade', 'Preço']\n",
    "\n",
    "...\n",
    "\n",
    "for i in caminhao:\n",
    "    print(i)\n",
    "    ..."
   ]
  },
  {
   "cell_type": "code",
   "execution_count": 3,
   "metadata": {},
   "outputs": [
    {
     "name": "stdout",
     "output_type": "stream",
     "text": [
      "('Pera', 100, 490, 1)\n",
      "('Laranja', 50, 91, 3)\n",
      "('Limão', 150, 83, 44)\n"
     ]
    }
   ],
   "source": [
    "# enfeitando as colunas\n",
    "colunas = ['Fruta','Quantidade', 'Preço']\n",
    "...\n",
    "for i in caminhao:\n",
    "    print(i)\n",
    "    ..."
   ]
  },
  {
   "cell_type": "markdown",
   "metadata": {},
   "source": [
    "## Trabalinho\n",
    "Agora vamos a trabalhar com dados reais, para isto devemos realizar as seguintes tarefas:\n",
    "\n",
    "* Abrir o arquivo [agricultura-produto-brasil.csv](./../dados/agricultura-produo-brasil.csv)\n",
    "* Mostrar os dados linha por linha\n",
    "* Formatar a impressão em tela\n"
   ]
  },
  {
   "cell_type": "markdown",
   "metadata": {},
   "source": []
  },
  {
   "cell_type": "markdown",
   "metadata": {},
   "source": [
    "## Retorno ao [sumário](./Resumo.md)"
   ]
  }
 ],
 "metadata": {
  "kernelspec": {
   "display_name": "Python 3.10.4 64-bit",
   "language": "python",
   "name": "python3"
  },
  "language_info": {
   "codemirror_mode": {
    "name": "ipython",
    "version": 3
   },
   "file_extension": ".py",
   "mimetype": "text/x-python",
   "name": "python",
   "nbconvert_exporter": "python",
   "pygments_lexer": "ipython3",
   "version": "3.10.4"
  },
  "orig_nbformat": 4,
  "vscode": {
   "interpreter": {
    "hash": "916dbcbb3f70747c44a77c7bcd40155683ae19c65e1c03b4aa3499c5328201f1"
   }
  }
 },
 "nbformat": 4,
 "nbformat_minor": 2
}
