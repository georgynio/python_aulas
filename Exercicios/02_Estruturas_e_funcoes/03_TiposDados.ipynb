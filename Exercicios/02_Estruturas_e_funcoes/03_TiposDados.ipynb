{
 "cells": [
  {
   "cell_type": "markdown",
   "metadata": {},
   "source": [
    "# Tipos e estruturas de dados"
   ]
  },
  {
   "cell_type": "markdown",
   "metadata": {},
   "source": [
    "## Tupla\n",
    "Tipo de estrutura de dados que funciona de modo semelhante a uma lista. Porém, sua **característica principal é de ser imutável**."
   ]
  },
  {
   "cell_type": "code",
   "execution_count": 1,
   "metadata": {},
   "outputs": [
    {
     "data": {
      "text/plain": [
       "('Maçãs', 100, 490.1)"
      ]
     },
     "execution_count": 1,
     "metadata": {},
     "output_type": "execute_result"
    }
   ],
   "source": [
    "s = ('Maçãs', 100, 490.1)\n",
    "s"
   ]
  },
  {
   "cell_type": "markdown",
   "metadata": {},
   "source": [
    "Declaração explícita"
   ]
  },
  {
   "cell_type": "code",
   "execution_count": 2,
   "metadata": {},
   "outputs": [
    {
     "data": {
      "text/plain": [
       "(10, 20, 30)"
      ]
     },
     "execution_count": 2,
     "metadata": {},
     "output_type": "execute_result"
    }
   ],
   "source": [
    "tupla_numeros = (10, 20, 30)\n",
    "tupla_numeros"
   ]
  },
  {
   "cell_type": "markdown",
   "metadata": {},
   "source": [
    "Declaração implícita"
   ]
  },
  {
   "cell_type": "code",
   "execution_count": 3,
   "metadata": {},
   "outputs": [
    {
     "data": {
      "text/plain": [
       "(10, 20, 30)"
      ]
     },
     "execution_count": 3,
     "metadata": {},
     "output_type": "execute_result"
    }
   ],
   "source": [
    "tupla_nova = 10, 20, 30\n",
    "tupla_nova"
   ]
  },
  {
   "cell_type": "code",
   "execution_count": 4,
   "metadata": {},
   "outputs": [
    {
     "name": "stdout",
     "output_type": "stream",
     "text": [
      "nome: Maçã\n",
      "quantidade: 100\n",
      "preço: 490.1\n"
     ]
    }
   ],
   "source": [
    "s = ('Maçã', 100, 490.1)\n",
    "nome = s[0] # 'Apple'\n",
    "quantidade = s[1] # 100\n",
    "preco = s[2] # 490,1\n",
    "\n",
    "print(f'nome: {nome}')\n",
    "print(f'quantidade: {quantidade}')\n",
    "print(f'preço: {preco}')"
   ]
  },
  {
   "cell_type": "markdown",
   "metadata": {},
   "source": [
    "**Importante:**, não podem ser modificados"
   ]
  },
  {
   "cell_type": "code",
   "execution_count": 5,
   "metadata": {},
   "outputs": [
    {
     "ename": "TypeError",
     "evalue": "'tuple' object does not support item assignment",
     "output_type": "error",
     "traceback": [
      "\u001b[0;31m---------------------------------------------------------------------------\u001b[0m",
      "\u001b[0;31mTypeError\u001b[0m                                 Traceback (most recent call last)",
      "\u001b[1;32m/home/georgynio/Envs/python_aulas/src/Exercicios/02_Estruturas_e_funcoes/03_TiposDados.ipynb Cell 10\u001b[0m in \u001b[0;36m<cell line: 1>\u001b[0;34m()\u001b[0m\n\u001b[0;32m----> <a href='vscode-notebook-cell:/home/georgynio/Envs/python_aulas/src/Exercicios/02_Estruturas_e_funcoes/03_TiposDados.ipynb#ch0000011?line=0'>1</a>\u001b[0m s[\u001b[39m1\u001b[39;49m] \u001b[39m=\u001b[39m \u001b[39m75\u001b[39m\n",
      "\u001b[0;31mTypeError\u001b[0m: 'tuple' object does not support item assignment"
     ]
    }
   ],
   "source": [
    "s[1] = 75"
   ]
  },
  {
   "cell_type": "markdown",
   "metadata": {},
   "source": [
    "Contar elementos em uma tupla"
   ]
  },
  {
   "cell_type": "code",
   "execution_count": 6,
   "metadata": {},
   "outputs": [
    {
     "name": "stdout",
     "output_type": "stream",
     "text": [
      "A quantidade de vezes que aparece Maria na tupla é: 2\n",
      "A quantidade de vezes que aparece Sérgio na tupla é: 1\n"
     ]
    }
   ],
   "source": [
    "tupla_nomes = ('Maria', 'Paulo', 'Maria', 'João', 'Sérgio')\n",
    "print (f\"A quantidade de vezes que aparece Maria na tupla é: {tupla_nomes.count('Maria')}\")\n",
    "print (f\"A quantidade de vezes que aparece Sérgio na tupla é: {tupla_nomes.count('Sérgio')}\")"
   ]
  },
  {
   "cell_type": "markdown",
   "metadata": {},
   "source": [
    "Exibir o indice de uma tupla"
   ]
  },
  {
   "cell_type": "code",
   "execution_count": 7,
   "metadata": {},
   "outputs": [
    {
     "name": "stdout",
     "output_type": "stream",
     "text": [
      "A posição de Maria na tupla é: 0\n",
      "A posição de Sérgio na tupla é: 4\n"
     ]
    }
   ],
   "source": [
    "tupla_nomes = ('Maria', 'Paulo', 'Maria', 'João', 'Sérgio')\n",
    "print (f\"A posição de Maria na tupla é: {tupla_nomes.index('Maria')}\")\n",
    "print (f\"A posição de Sérgio na tupla é: {tupla_nomes.index('Sérgio')}\")"
   ]
  },
  {
   "cell_type": "code",
   "execution_count": 8,
   "metadata": {},
   "outputs": [
    {
     "name": "stdout",
     "output_type": "stream",
     "text": [
      "Quantidade de bits utilizado pela lista: 120\n",
      "Quantidade de bits utilizado pela tupla: 80\n"
     ]
    }
   ],
   "source": [
    "# Uso de memoria\n",
    "import sys\n",
    "a_list = list()\n",
    "a_tuple = tuple()\n",
    "a_list = [1,2,3,4,5]\n",
    "a_tuple = (1,2,3,4,5)\n",
    "print(f\"Quantidade de bits utilizado pela lista: {sys.getsizeof(a_list)}\")\n",
    "print(f\"Quantidade de bits utilizado pela tupla: {sys.getsizeof(a_tuple)}\")\n"
   ]
  },
  {
   "cell_type": "code",
   "execution_count": 9,
   "metadata": {},
   "outputs": [
    {
     "name": "stdout",
     "output_type": "stream",
     "text": [
      "3.9.13\n",
      "Instantiation time for LIST: 0.2926185131072998\n",
      "Instantiation time for TUPLE: 0.33600521087646484\n",
      "Lookup time for LIST:  0.8122336864471436\n",
      "Lookup time for TUPLE:  0.7793135643005371\n"
     ]
    }
   ],
   "source": [
    "# Eficiencia na velocidade de leitura\n",
    "\n",
    "import sys, platform\n",
    "import time\n",
    "print(platform.python_version())\n",
    "start_time = time.time()\n",
    "b_list = list(range(10000000))\n",
    "end_time = time.time()\n",
    "print(\"Instantiation time for LIST:\", end_time - start_time)\n",
    "start_time = time.time()\n",
    "b_tuple = tuple(range(10000000))\n",
    "end_time = time.time()\n",
    "print(\"Instantiation time for TUPLE:\", end_time - start_time)\n",
    "start_time = time.time()\n",
    "for item in b_list:\n",
    "  aa = b_list[20000]\n",
    "end_time = time.time()\n",
    "print(\"Lookup time for LIST: \", end_time - start_time)\n",
    "start_time = time.time()\n",
    "for item in b_tuple:\n",
    "  aa = b_tuple[20000]\n",
    "end_time = time.time()\n",
    "print(\"Lookup time for TUPLE: \", end_time - start_time)"
   ]
  },
  {
   "cell_type": "markdown",
   "metadata": {},
   "source": [
    "## Tuplas vs listas\n",
    "\n",
    "Estes tipos de dados são muito comuns, porém, devemos levar em consideração o seguinte:\n",
    "\n",
    "|Tuplas   | Listas| Dicionários|\n",
    "|:---------|-------|------:|\n",
    "|Imutável, o conteudo não pode ser modificado depois de criado | Mutável, o conteudo pode ser modificado de acordo as necessidades| Mutável|\n",
    "|Entre () | Entre []| Entre {}|\n",
    "| Mais eficiente no uso da memoria |  |\n",
    "| Elementos mantém a posição | Elementos mantém a posição | Elementos desordenados, o item muda de ordem |\n",
    "\n"
   ]
  },
  {
   "cell_type": "markdown",
   "metadata": {},
   "source": [
    "## Dicionários"
   ]
  },
  {
   "cell_type": "code",
   "execution_count": 10,
   "metadata": {},
   "outputs": [
    {
     "name": "stdout",
     "output_type": "stream",
     "text": [
      "{'fruta': 'maçã', 'gavetas': 100, 'preço': 490.1}\n",
      "<class 'dict'>\n",
      "--------------------\n",
      "{'fruta': 'maçã', 'gavetas': 100, 'preço': 490.1}\n",
      "<class 'dict'>\n",
      "--------------------\n",
      "{'sergio': 4139, 'guido': 4127, 'jack': 4098}\n",
      "<class 'dict'>\n"
     ]
    }
   ],
   "source": [
    "s = {\n",
    "    'fruta': 'maçã',\n",
    "    'gavetas': 100,\n",
    "    'preço': 490.1\n",
    "}\n",
    "print(s)\n",
    "print(type(s))\n",
    "print('-'*20)\n",
    "\n",
    "r = dict(fruta= 'maçã', gavetas=100, preço=490.1)\n",
    "print(r)\n",
    "print(type(r))\n",
    "print('-'*20)\n",
    "\n",
    "t = dict([('sergio', 4139), ('guido', 4127), ('jack', 4098)])\n",
    "print(t)\n",
    "print(type(t))"
   ]
  },
  {
   "cell_type": "code",
   "execution_count": 11,
   "metadata": {},
   "outputs": [
    {
     "name": "stdout",
     "output_type": "stream",
     "text": [
      "{2: 4, 4: 16, 6: 36}\n",
      "<class 'dict'>\n"
     ]
    }
   ],
   "source": [
    "# podemos utlizar comprehensão de dicionarios\n",
    "\n",
    "u = {x: x**2 for x in (2, 4, 6)}\n",
    "print(u)\n",
    "print(type(u))"
   ]
  },
  {
   "cell_type": "code",
   "execution_count": null,
   "metadata": {},
   "outputs": [],
   "source": []
  }
 ],
 "metadata": {
  "kernelspec": {
   "display_name": "Python 3.9.13 ('python_aulas')",
   "language": "python",
   "name": "python3"
  },
  "language_info": {
   "codemirror_mode": {
    "name": "ipython",
    "version": 3
   },
   "file_extension": ".py",
   "mimetype": "text/x-python",
   "name": "python",
   "nbconvert_exporter": "python",
   "pygments_lexer": "ipython3",
   "version": "3.9.13"
  },
  "orig_nbformat": 4,
  "vscode": {
   "interpreter": {
    "hash": "f565761bc3466c09e61fd6c158436d1d80be7935aec86c410a4c98cce3fe16c3"
   }
  }
 },
 "nbformat": 4,
 "nbformat_minor": 2
}
