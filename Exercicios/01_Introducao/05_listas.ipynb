{
 "cells": [
  {
   "cell_type": "markdown",
   "metadata": {},
   "source": [
    "# Listas"
   ]
  },
  {
   "cell_type": "markdown",
   "metadata": {},
   "source": [
    "String para lista"
   ]
  },
  {
   "cell_type": "code",
   "execution_count": 1,
   "metadata": {},
   "outputs": [],
   "source": [
    "line = 'Açucar,5,30'\n",
    "prod, peso, valor = line.split(',')\n",
    "\n",
    "# imprime o resultado de forma elegante\n",
    "print(f'')"
   ]
  },
  {
   "cell_type": "code",
   "execution_count": null,
   "metadata": {},
   "outputs": [],
   "source": [
    "# operações   \n",
    "squares = [1, 4, 9, 16]\n",
    "sum = 0\n",
    "for num in squares:\n",
    "    sum += num\n",
    "print(sum)  ## 30"
   ]
  },
  {
   "cell_type": "markdown",
   "metadata": {},
   "source": [
    "## Exercicios \n",
    "\n",
    "- Faça uma lista dos nomes das pessoas presentes na sala, o resultado deve ser parecido com isto:\n",
    "```\n",
    "  Nome     | Sobre nome          |    Programa em Python?\n",
    "  -------------------------------------------------------\n",
    "  Juan     | Silva               |    sim\n",
    "  Carlos   | Santiago            |    não\n",
    "  Karine   | Correa              |    sim\n",
    "  Larissa  | Bolucci             |    sim\n",
    "```\n",
    "- verificar o elemento de uma lista, se for verdadeiro retornar \"te achei!\".\n",
    "- numa lista de números, elevar ao quadrado apenas os números pares.\n",
    "- **bonus** usar o comando append para ir atualizando a lista de nomes utilizando o while."
   ]
  },
  {
   "cell_type": "code",
   "execution_count": null,
   "metadata": {},
   "outputs": [],
   "source": [
    "# lista dos presentes na sala\n",
    "nomes = [...]\n",
    "print(...)\n",
    "\n",
    "for i in nomes:\n",
    "    print(...)"
   ]
  },
  {
   "cell_type": "code",
   "execution_count": null,
   "metadata": {},
   "outputs": [],
   "source": [
    "# programa te achei\n",
    "lista = [...]\n",
    "\n",
    "if ... in lista:\n",
    "    print(...)"
   ]
  },
  {
   "cell_type": "code",
   "execution_count": null,
   "metadata": {},
   "outputs": [],
   "source": [
    "lista = [...]\n",
    "\n",
    "for i in lista:\n",
    "    if i //... == 0:\n",
    "        print(...)\n",
    "    print(...)"
   ]
  },
  {
   "cell_type": "markdown",
   "metadata": {},
   "source": [
    "## Retorno ao [sumário](./Resumo.md)"
   ]
  }
 ],
 "metadata": {
  "kernelspec": {
   "display_name": "Python 3.10.4 64-bit",
   "language": "python",
   "name": "python3"
  },
  "language_info": {
   "codemirror_mode": {
    "name": "ipython",
    "version": 3
   },
   "file_extension": ".py",
   "mimetype": "text/x-python",
   "name": "python",
   "nbconvert_exporter": "python",
   "pygments_lexer": "ipython3",
   "version": "3.8.10"
  },
  "orig_nbformat": 4,
  "vscode": {
   "interpreter": {
    "hash": "916dbcbb3f70747c44a77c7bcd40155683ae19c65e1c03b4aa3499c5328201f1"
   }
  }
 },
 "nbformat": 4,
 "nbformat_minor": 2
}
