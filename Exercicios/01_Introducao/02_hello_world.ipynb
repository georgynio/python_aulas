{
  "cells": [
    {
      "cell_type": "markdown",
      "metadata": {
        "id": "lB09BsoJCqZx"
      },
      "source": [
        "# Olá mundo!\n",
        "\n",
        "Primeiro encontro com nossa linguagem de programação"
      ]
    },
    {
      "cell_type": "code",
      "execution_count": 3,
      "metadata": {
        "id": "YQyVlSlXCqZ1"
      },
      "outputs": [
        {
          "name": "stdout",
          "output_type": "stream",
          "text": [
            "/bin/python3\n",
            "3.10.4 (main, Jun 29 2022, 12:14:53) [GCC 11.2.0]\n",
            "sys.version_info(major=3, minor=10, micro=4, releaselevel='final', serial=0)\n"
          ]
        }
      ],
      "source": [
        "import sys\n",
        "\n",
        "print(sys.executable)  # localização do executavel python\n",
        "print(sys.version)     # versão do python\n",
        "print(sys.version_info)"
      ]
    },
    {
      "cell_type": "markdown",
      "metadata": {
        "id": "a_VtbSJOCqZ2"
      },
      "source": [
        "## Modo iterativo"
      ]
    },
    {
      "cell_type": "code",
      "execution_count": null,
      "metadata": {
        "colab": {
          "base_uri": "https://localhost:8080/"
        },
        "id": "Y4uS8OKeCqZ2",
        "outputId": "ea34ece9-af37-4530-cda0-be9627dda741"
      },
      "outputs": [
        {
          "name": "stdout",
          "output_type": "stream",
          "text": [
            "Olá Mundo\n",
            "Hello world\n"
          ]
        }
      ],
      "source": [
        "print('Olá Mundo')\n",
        "print('Hello world')"
      ]
    },
    {
      "cell_type": "markdown",
      "metadata": {
        "id": "QBE-nHEnCqZ3"
      },
      "source": [
        "# Teste do underline `_`\n",
        "\n",
        "- lembrando que este guarda o último resultado.\n",
        "\n",
        "**Nota** lembre-se que esta variável tem comportamento específico."
      ]
    },
    {
      "cell_type": "code",
      "execution_count": null,
      "metadata": {
        "colab": {
          "base_uri": "https://localhost:8080/"
        },
        "id": "fXlXvJM-CqZ3",
        "outputId": "49ed7c0b-dcc9-46db-c92f-2a0e5cad3dbc"
      },
      "outputs": [
        {
          "data": {
            "text/plain": [
              "6"
            ]
          },
          "execution_count": 3,
          "metadata": {},
          "output_type": "execute_result"
        }
      ],
      "source": [
        "3 * 2"
      ]
    },
    {
      "cell_type": "markdown",
      "metadata": {
        "id": "t-VHPB5bDFiW"
      },
      "source": [
        "verificando o valor do `_`"
      ]
    },
    {
      "cell_type": "code",
      "execution_count": null,
      "metadata": {
        "colab": {
          "base_uri": "https://localhost:8080/"
        },
        "id": "HBca2dGnCqZ4",
        "outputId": "9698eacd-1402-40b1-b0a5-d7b58741db93"
      },
      "outputs": [
        {
          "data": {
            "text/plain": [
              "6"
            ]
          },
          "execution_count": 4,
          "metadata": {},
          "output_type": "execute_result"
        }
      ],
      "source": [
        "# este elemento guarda o último resultado\n",
        "_"
      ]
    },
    {
      "cell_type": "code",
      "execution_count": null,
      "metadata": {
        "colab": {
          "base_uri": "https://localhost:8080/"
        },
        "id": "DHx7T739CqZ5",
        "outputId": "0b449b2d-6149-4c76-a39f-ce518bf58d26"
      },
      "outputs": [
        {
          "name": "stdout",
          "output_type": "stream",
          "text": [
            "6\n"
          ]
        }
      ],
      "source": [
        "# confere o que acontece quando utilizamos dentro de uma variável.\n",
        "a = 5*8\n",
        "print(_)"
      ]
    },
    {
      "cell_type": "markdown",
      "metadata": {
        "id": "VpgzGEuTCqZ6"
      },
      "source": [
        "Vamos por em execução o nosso primeiro programa, tabuleiro do xadrez."
      ]
    },
    {
      "cell_type": "code",
      "execution_count": null,
      "metadata": {
        "colab": {
          "base_uri": "https://localhost:8080/"
        },
        "id": "G6VRiB9YCqZ6",
        "outputId": "b04958fd-719a-494c-e67e-e89e6efb0f4c"
      },
      "outputs": [
        {
          "name": "stdout",
          "output_type": "stream",
          "text": [
            "1 1 0\n",
            "2 2 1\n",
            "3 4 2\n",
            "4 8 3\n",
            "5 16 4\n",
            "6 32 5\n",
            "7 64 6\n",
            "8 128 7\n",
            "9 256 8\n",
            "Quantidade de grãos 256\n",
            "Equivale a elevar 2 à 8\n"
          ]
        }
      ],
      "source": [
        "# xadrez.py\n",
        "quadros_tabuleiro = 8  # numeronão de quadros no tabuleiro\n",
        "grao = 1        # primeiro grão de arroz\n",
        "posicao = 1\n",
        "\n",
        "print(posicao, grao, posicao-1)\n",
        "\n",
        "while posicao <= quadros_tabuleiro:\n",
        "    \n",
        "    grao = grao * 2\n",
        "    posicao = posicao + 1\n",
        "    print(posicao, grao, posicao-1)\n",
        "\n",
        "print('Quantidade de grãos', grao)\n",
        "print('Equivale a elevar 2 à', posicao-1)"
      ]
    },
    {
      "cell_type": "markdown",
      "metadata": {
        "id": "jD2fzRiVCqZ7"
      },
      "source": [
        "- pedindo pro Python a lista de palavras reservadas"
      ]
    },
    {
      "cell_type": "code",
      "execution_count": 1,
      "metadata": {
        "colab": {
          "base_uri": "https://localhost:8080/"
        },
        "id": "gdEwwYSICqZ7",
        "outputId": "fc28d62e-a147-4dae-f609-1898fa9b74d2"
      },
      "outputs": [
        {
          "name": "stdout",
          "output_type": "stream",
          "text": [
            "\n",
            "Here is a list of the Python keywords.  Enter any keyword to get more help.\n",
            "\n",
            "False               class               from                or\n",
            "None                continue            global              pass\n",
            "True                def                 if                  raise\n",
            "and                 del                 import              return\n",
            "as                  elif                in                  try\n",
            "assert              else                is                  while\n",
            "async               except              lambda              with\n",
            "await               finally             nonlocal            yield\n",
            "break               for                 not                 \n",
            "\n"
          ]
        }
      ],
      "source": [
        "help('keywords')"
      ]
    },
    {
      "cell_type": "markdown",
      "metadata": {
        "id": "N2XNpW0KCqZ8"
      },
      "source": [
        "## Estruturas de repetição\n",
        "- for\n",
        "- while"
      ]
    },
    {
      "cell_type": "markdown",
      "metadata": {
        "id": "8Ry7CPOfCqZ8"
      },
      "source": [
        "Fazer a tabela de multiplicção:\n",
        "- 1 * 1 = 1\n",
        "- 1 * 2 = 2\n",
        "- 1 * 3 = 3\n",
        "- 1 * 4 = 4\n",
        "- 1 * 5 = 5\n",
        "- 1 * 6 = 6\n",
        "- 1 * 7 = 7\n",
        "- 1 * 8 = 8\n",
        "- 1 * 9 = 9\n",
        "- 1 * 0 = 0"
      ]
    },
    {
      "cell_type": "code",
      "execution_count": 8,
      "metadata": {
        "id": "9wUtFy8SCqZ8",
        "outputId": "55fdd62e-5778-4485-a294-bb51eaaf7de2"
      },
      "outputs": [
        {
          "name": "stdout",
          "output_type": "stream",
          "text": [
            "Tabuada com for\n",
            "--------------------\n",
            "2  *  0  =  0\n",
            "2  *  1  =  2\n",
            "2  *  2  =  4\n",
            "2  *  3  =  6\n",
            "2  *  4  =  8\n",
            "2  *  5  =  10\n",
            "2  *  6  =  12\n",
            "2  *  7  =  14\n",
            "2  *  8  =  16\n",
            "2  *  9  =  18\n",
            "\n",
            "Tabuada com while\n",
            "--------------------\n",
            "2  *  1  =  2\n",
            "2  *  2  =  4\n",
            "2  *  3  =  6\n",
            "2  *  4  =  8\n",
            "2  *  5  =  10\n",
            "2  *  6  =  12\n",
            "2  *  7  =  14\n",
            "2  *  8  =  16\n",
            "2  *  9  =  18\n",
            "2  *  10  =  20\n"
          ]
        }
      ],
      "source": [
        "# vamos tentar realizar a tabela de multiplicação usando o for e o while.\n",
        "numero = 2 ## coloque seu número\n",
        "print('Tabuada com for')\n",
        "print('-'*20)\n",
        "for i in range(10):\n",
        "    print(numero, ' * ', i, ' = ', numero*i)\n",
        "\n",
        "print('\\nTabuada com while')\n",
        "print('-'*20)\n",
        "i = 0\n",
        "while i < 10:\n",
        "    i = i + 1\n",
        "    print(numero, ' * ', i, ' = ', numero*i)"
      ]
    },
    {
      "cell_type": "markdown",
      "metadata": {
        "id": "pPkJVtaSCqZ9"
      },
      "source": [
        "Veamos se podemos pedir argumentos pelo teclado"
      ]
    },
    {
      "cell_type": "code",
      "execution_count": 2,
      "metadata": {
        "colab": {
          "base_uri": "https://localhost:8080/"
        },
        "id": "Nb1-rwXNCqZ9",
        "outputId": "6345cf98-eb98-4154-ac85-017f85510d42"
      },
      "outputs": [
        {
          "name": "stdout",
          "output_type": "stream",
          "text": [
            "nome: alex\n",
            "alex\n",
            "Meu nome é:  alex\n"
          ]
        }
      ],
      "source": [
        "nome = input('nome: ')\n",
        "print(nome)\n",
        "print('Meu nome é: ', nome)"
      ]
    },
    {
      "cell_type": "markdown",
      "metadata": {
        "id": "w3PwjNCTCqZ9"
      },
      "source": [
        "## Tarefa\n",
        "Se conseguimos pedir argumento pelo teclado porque não pedirmos para fazer uma tabela de multiplicação, a partir de um numero ingressado pelo teclado?"
      ]
    },
    {
      "cell_type": "code",
      "execution_count": null,
      "metadata": {
        "colab": {
          "base_uri": "https://localhost:8080/"
        },
        "id": "MXfD_HcrCqZ9",
        "outputId": "1917cce1-2239-423a-86b0-92f7fa0dcab8"
      },
      "outputs": [
        {
          "name": "stdout",
          "output_type": "stream",
          "text": [
            "Ingresse seu número: 152\n"
          ]
        }
      ],
      "source": [
        "numero = input('Ingresse seu número: ')"
      ]
    },
    {
      "cell_type": "markdown",
      "metadata": {
        "id": "22_OTjuICqZ-"
      },
      "source": [
        "## Retorno ao [sumário](./Resumo.md)"
      ]
    }
  ],
  "metadata": {
    "colab": {
      "name": "02_hello_world.ipynb",
      "provenance": []
    },
    "kernelspec": {
      "display_name": "Python 3.10.4 64-bit",
      "language": "python",
      "name": "python3"
    },
    "language_info": {
      "codemirror_mode": {
        "name": "ipython",
        "version": 3
      },
      "file_extension": ".py",
      "mimetype": "text/x-python",
      "name": "python",
      "nbconvert_exporter": "python",
      "pygments_lexer": "ipython3",
      "version": "3.10.4"
    },
    "orig_nbformat": 4,
    "vscode": {
      "interpreter": {
        "hash": "916dbcbb3f70747c44a77c7bcd40155683ae19c65e1c03b4aa3499c5328201f1"
      }
    }
  },
  "nbformat": 4,
  "nbformat_minor": 0
}
