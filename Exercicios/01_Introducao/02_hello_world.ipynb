{
 "cells": [
  {
   "cell_type": "markdown",
   "metadata": {},
   "source": [
    "# Olá mundo!\n",
    "\n",
    "Primeiro encontro com nossa linguagem de programação"
   ]
  },
  {
   "cell_type": "code",
   "execution_count": 2,
   "metadata": {},
   "outputs": [],
   "source": [
    "#!python3"
   ]
  },
  {
   "cell_type": "markdown",
   "metadata": {},
   "source": [
    "## Modo iterativo"
   ]
  },
  {
   "cell_type": "code",
   "execution_count": 3,
   "metadata": {},
   "outputs": [
    {
     "name": "stdout",
     "output_type": "stream",
     "text": [
      "Olá Mundo\n",
      "Hello world\n"
     ]
    }
   ],
   "source": [
    "print('Olá Mundo')\n",
    "print('Hello world')"
   ]
  },
  {
   "cell_type": "markdown",
   "metadata": {},
   "source": [
    "# Teste do underline `_`\n",
    "\n",
    "- lembrando que este guarda o último resultado.\n",
    "\n",
    "**Nota** lembre-se que esta variável tem comportamento específico."
   ]
  },
  {
   "cell_type": "code",
   "execution_count": 4,
   "metadata": {},
   "outputs": [
    {
     "data": {
      "text/plain": [
       "6"
      ]
     },
     "execution_count": 4,
     "metadata": {},
     "output_type": "execute_result"
    }
   ],
   "source": [
    "3 * 2"
   ]
  },
  {
   "cell_type": "code",
   "execution_count": 5,
   "metadata": {},
   "outputs": [
    {
     "data": {
      "text/plain": [
       "6"
      ]
     },
     "execution_count": 5,
     "metadata": {},
     "output_type": "execute_result"
    }
   ],
   "source": [
    "# este elemento guarda o último resultado\n",
    "_"
   ]
  },
  {
   "cell_type": "code",
   "execution_count": 6,
   "metadata": {},
   "outputs": [
    {
     "name": "stdout",
     "output_type": "stream",
     "text": [
      "6\n"
     ]
    }
   ],
   "source": [
    "# confere o que acontece quando utilizamos dentro de uma variável.\n",
    "a = 5*8\n",
    "print(_)"
   ]
  },
  {
   "cell_type": "markdown",
   "metadata": {},
   "source": [
    "Vamos por em execução o nosso primeiro programa, tabuleiro do xadrez."
   ]
  },
  {
   "cell_type": "code",
   "execution_count": 7,
   "metadata": {},
   "outputs": [
    {
     "name": "stdout",
     "output_type": "stream",
     "text": [
      "1 1 0\n",
      "2 2 1\n",
      "3 4 2\n",
      "4 8 3\n",
      "5 16 4\n",
      "6 32 5\n",
      "7 64 6\n",
      "8 128 7\n",
      "9 256 8\n",
      "Quantidade de grãos 256\n",
      "Equivale a elevar 2 à 8\n"
     ]
    }
   ],
   "source": [
    "# xadrez.py\n",
    "quadros_tabuleiro = 8  # numeronão de quadros no tabuleiro\n",
    "grao = 1        # primeiro grão de arroz\n",
    "posicao = 1\n",
    "\n",
    "print(posicao, grao, posicao-1)\n",
    "\n",
    "while posicao <= quadros_tabuleiro:\n",
    "    \n",
    "    grao = grao * 2\n",
    "    posicao = posicao + 1\n",
    "    print(posicao, grao, posicao-1)\n",
    "\n",
    "print('Quantidade de grãos', grao)\n",
    "print('Equivale a elevar 2 à', posicao-1)"
   ]
  },
  {
   "cell_type": "markdown",
   "metadata": {},
   "source": [
    "- pedindo pro Python a lista de palavras reservadas"
   ]
  },
  {
   "cell_type": "code",
   "execution_count": 8,
   "metadata": {},
   "outputs": [
    {
     "name": "stdout",
     "output_type": "stream",
     "text": [
      "\n",
      "Here is a list of the Python keywords.  Enter any keyword to get more help.\n",
      "\n",
      "False               break               for                 not\n",
      "None                class               from                or\n",
      "True                continue            global              pass\n",
      "__peg_parser__      def                 if                  raise\n",
      "and                 del                 import              return\n",
      "as                  elif                in                  try\n",
      "assert              else                is                  while\n",
      "async               except              lambda              with\n",
      "await               finally             nonlocal            yield\n",
      "\n"
     ]
    }
   ],
   "source": [
    "help('keywords')"
   ]
  },
  {
   "cell_type": "markdown",
   "metadata": {},
   "source": [
    "## Estruturas de repetição\n",
    "- for\n",
    "- while"
   ]
  },
  {
   "cell_type": "markdown",
   "metadata": {},
   "source": [
    "Fazer a tabela de multiplicção:\n",
    "- 1 * 1 = 1\n",
    "- 1 * 2 = 2\n",
    "- 1 * 3 = 3\n",
    "- 1 * 4 = 4\n",
    "- 1 * 5 = 5\n",
    "- 1 * 6 = 6\n",
    "- 1 * 7 = 7\n",
    "- 1 * 8 = 8\n",
    "- 1 * 9 = 9\n",
    "- 1 * 0 = 0"
   ]
  },
  {
   "cell_type": "code",
   "execution_count": 9,
   "metadata": {},
   "outputs": [
    {
     "ename": "KeyboardInterrupt",
     "evalue": "",
     "output_type": "error",
     "traceback": [
      "\u001b[0;31m---------------------------------------------------------------------------\u001b[0m",
      "\u001b[0;31mKeyboardInterrupt\u001b[0m                         Traceback (most recent call last)",
      "\u001b[1;32m/home/georgynio/Envs/python_aulas/src/Exercicios/01_Introducao/02_hello_world.ipynb Cell 15\u001b[0m in \u001b[0;36m<cell line: 7>\u001b[0;34m()\u001b[0m\n\u001b[1;32m      <a href='vscode-notebook-cell:/home/georgynio/Envs/python_aulas/src/Exercicios/01_Introducao/02_hello_world.ipynb#ch0000014?line=3'>4</a>\u001b[0m     \u001b[39mpass\u001b[39;00m\n\u001b[1;32m      <a href='vscode-notebook-cell:/home/georgynio/Envs/python_aulas/src/Exercicios/01_Introducao/02_hello_world.ipynb#ch0000014?line=5'>6</a>\u001b[0m i \u001b[39m=\u001b[39m \u001b[39m0\u001b[39m\n\u001b[0;32m----> <a href='vscode-notebook-cell:/home/georgynio/Envs/python_aulas/src/Exercicios/01_Introducao/02_hello_world.ipynb#ch0000014?line=6'>7</a>\u001b[0m \u001b[39mwhile\u001b[39;00m i \u001b[39m<\u001b[39m \u001b[39m10\u001b[39m:\n\u001b[1;32m      <a href='vscode-notebook-cell:/home/georgynio/Envs/python_aulas/src/Exercicios/01_Introducao/02_hello_world.ipynb#ch0000014?line=7'>8</a>\u001b[0m     \u001b[39mpass\u001b[39;00m\n",
      "\u001b[0;31mKeyboardInterrupt\u001b[0m: "
     ]
    }
   ],
   "source": [
    "# vamos tentar realizar a tabela de multiplicação usando o for e o while.\n",
    "numero = 2 ## coloque seu número\n",
    "for i in range(10):\n",
    "    pass\n",
    "\n",
    "i = 0\n",
    "while i < 10:\n",
    "    pass"
   ]
  },
  {
   "cell_type": "markdown",
   "metadata": {},
   "source": [
    "Veamos se podemos pedir argumentos pelo teclado"
   ]
  },
  {
   "cell_type": "code",
   "execution_count": null,
   "metadata": {},
   "outputs": [],
   "source": [
    "nome = input('nome: ')\n",
    "print(nome)\n",
    "print('Meu nome é: ', nome)"
   ]
  },
  {
   "cell_type": "markdown",
   "metadata": {},
   "source": [
    "## Tarefa\n",
    "Se conseguimos pedir argumento pelo teclado porque não pedirmos para fazer uma tabela de multiplicação, a partir de um numero ingressado pelo teclado?"
   ]
  },
  {
   "cell_type": "code",
   "execution_count": null,
   "metadata": {},
   "outputs": [],
   "source": [
    "numero = input('Ingresse seu número: ')"
   ]
  },
  {
   "cell_type": "markdown",
   "metadata": {},
   "source": [
    "## Retorno ao [sumário](./Resumo.md)"
   ]
  }
 ],
 "metadata": {
  "kernelspec": {
   "display_name": "Python 3.9.13 ('python_aulas')",
   "language": "python",
   "name": "python3"
  },
  "language_info": {
   "codemirror_mode": {
    "name": "ipython",
    "version": 3
   },
   "file_extension": ".py",
   "mimetype": "text/x-python",
   "name": "python",
   "nbconvert_exporter": "python",
   "pygments_lexer": "ipython3",
   "version": "3.9.13"
  },
  "orig_nbformat": 4,
  "vscode": {
   "interpreter": {
    "hash": "f565761bc3466c09e61fd6c158436d1d80be7935aec86c410a4c98cce3fe16c3"
   }
  }
 },
 "nbformat": 4,
 "nbformat_minor": 2
}
