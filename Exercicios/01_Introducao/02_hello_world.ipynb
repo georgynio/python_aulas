{
 "cells": [
  {
   "cell_type": "markdown",
   "metadata": {},
   "source": [
    "# Olá mundo!\n",
    "\n",
    "Primeiro encontro com nossa linguagem de programação"
   ]
  },
  {
   "cell_type": "code",
   "execution_count": 3,
   "metadata": {},
   "outputs": [
    {
     "name": "stdout",
     "output_type": "stream",
     "text": [
      "Python 3.10.4 (main, Jun 29 2022, 12:14:53) [GCC 11.2.0] on linux\n",
      "Type \"help\", \"copyright\", \"credits\" or \"license\" for more information.\n",
      ">>> \n",
      "Traceback (most recent call last):\n",
      "  File \"<stdin>\", line 1, in <module>\n",
      "KeyboardInterrupt\n",
      ">>> "
     ]
    }
   ],
   "source": [
    "!python3"
   ]
  },
  {
   "cell_type": "markdown",
   "metadata": {},
   "source": [
    "## Modo iterativo"
   ]
  },
  {
   "cell_type": "code",
   "execution_count": 4,
   "metadata": {},
   "outputs": [
    {
     "name": "stdout",
     "output_type": "stream",
     "text": [
      "Olá Mundo\n",
      "Hello world\n"
     ]
    }
   ],
   "source": [
    "print('Olá Mundo')\n",
    "print('Hello world')"
   ]
  },
  {
   "cell_type": "markdown",
   "metadata": {},
   "source": [
    "# Teste do underline `_`\n",
    "\n",
    "- lembrando que este guarda o último resultado.\n",
    "\n",
    "**Nota** lembre-se que esta variável tem comportamento específico."
   ]
  },
  {
   "cell_type": "code",
   "execution_count": 10,
   "metadata": {},
   "outputs": [
    {
     "data": {
      "text/plain": [
       "6"
      ]
     },
     "execution_count": 10,
     "metadata": {},
     "output_type": "execute_result"
    }
   ],
   "source": [
    "3 * 2"
   ]
  },
  {
   "cell_type": "code",
   "execution_count": 11,
   "metadata": {},
   "outputs": [
    {
     "data": {
      "text/plain": [
       "6"
      ]
     },
     "execution_count": 11,
     "metadata": {},
     "output_type": "execute_result"
    }
   ],
   "source": [
    "# este elemento guarda o último resultado\n",
    "_"
   ]
  },
  {
   "cell_type": "code",
   "execution_count": null,
   "metadata": {},
   "outputs": [],
   "source": [
    "# confere o que acontece quando utilizamos dentro de uma variável.\n",
    "a = 5*8\n",
    "print(_)"
   ]
  },
  {
   "cell_type": "markdown",
   "metadata": {},
   "source": [
    "Vamos por em execução o nosso primeiro programa, tabuleiro do xadrez."
   ]
  },
  {
   "cell_type": "code",
   "execution_count": null,
   "metadata": {},
   "outputs": [],
   "source": [
    "# xadrez.py\n",
    "quadros_tabuleiro = 8  # numeronão de quadros no tabuleiro\n",
    "grao = 1        # primeiro grão de arroz\n",
    "posicao = 1\n",
    "\n",
    "print(posicao, grao, posicao-1)\n",
    "\n",
    "while posicao <= quadros_tabuleiro:\n",
    "    \n",
    "    grao = grao * 2\n",
    "    posicao = posicao + 1\n",
    "    print(posicao, grao, posicao-1)\n",
    "\n",
    "print('Quantidade de grãos', grao)\n",
    "print('Equivale a elevar 2 à', posicao-1)"
   ]
  },
  {
   "cell_type": "markdown",
   "metadata": {},
   "source": [
    "- pedindo pro Python a lista de palavras reservadas"
   ]
  },
  {
   "cell_type": "code",
   "execution_count": 5,
   "metadata": {},
   "outputs": [
    {
     "name": "stdout",
     "output_type": "stream",
     "text": [
      "\n",
      "Here is a list of the Python keywords.  Enter any keyword to get more help.\n",
      "\n",
      "False               class               from                or\n",
      "None                continue            global              pass\n",
      "True                def                 if                  raise\n",
      "and                 del                 import              return\n",
      "as                  elif                in                  try\n",
      "assert              else                is                  while\n",
      "async               except              lambda              with\n",
      "await               finally             nonlocal            yield\n",
      "break               for                 not                 \n",
      "\n"
     ]
    }
   ],
   "source": [
    "help('keywords')"
   ]
  },
  {
   "cell_type": "markdown",
   "metadata": {},
   "source": [
    "## Estruturas de repetição\n",
    "- for\n",
    "- while"
   ]
  },
  {
   "cell_type": "markdown",
   "metadata": {},
   "source": [
    "Fazer a tabela de multiplicção:\n",
    "- 1 * 1 = 1\n",
    "- 1 * 2 = 2\n",
    "- 1 * 3 = 3\n",
    "- 1 * 4 = 4\n",
    "- 1 * 5 = 5\n",
    "- 1 * 6 = 6\n",
    "- 1 * 7 = 7\n",
    "- 1 * 8 = 8\n",
    "- 1 * 9 = 9\n",
    "- 1 * 0 = 0"
   ]
  },
  {
   "cell_type": "code",
   "execution_count": null,
   "metadata": {},
   "outputs": [],
   "source": [
    "# vamos tentar realizar a tabela de multiplicação usando o for e o while.\n",
    "numero = 2 ## coloque seu número\n",
    "for i in range(10):\n",
    "    pass\n",
    "\n",
    "i = 0\n",
    "while i < 10:\n",
    "    pass"
   ]
  },
  {
   "cell_type": "markdown",
   "metadata": {},
   "source": [
    "Veamos se podemos pedir argumentos pelo teclado"
   ]
  },
  {
   "cell_type": "code",
   "execution_count": 11,
   "metadata": {},
   "outputs": [
    {
     "name": "stdout",
     "output_type": "stream",
     "text": [
      "alexandre\n",
      "Meu nome é:  alexandre\n"
     ]
    }
   ],
   "source": [
    "nome = input('nome: ')\n",
    "print(nome)\n",
    "print('Meu nome é: ', nome)"
   ]
  },
  {
   "cell_type": "markdown",
   "metadata": {},
   "source": [
    "## Tarefa\n",
    "Se conseguimos pedir argumento pelo teclado porque não pedirmos para fazer uma tabela de multiplicação, a partir de um numero ingressado pelo teclado?"
   ]
  },
  {
   "cell_type": "code",
   "execution_count": null,
   "metadata": {},
   "outputs": [],
   "source": [
    "numero = input('Ingresse seu número: ')"
   ]
  },
  {
   "cell_type": "markdown",
   "metadata": {},
   "source": [
    "## Retorno ao [sumário](./Resumo.md)"
   ]
  }
 ],
 "metadata": {
  "kernelspec": {
   "display_name": "Python 3.10.4 64-bit",
   "language": "python",
   "name": "python3"
  },
  "language_info": {
   "codemirror_mode": {
    "name": "ipython",
    "version": 3
   },
   "file_extension": ".py",
   "mimetype": "text/x-python",
   "name": "python",
   "nbconvert_exporter": "python",
   "pygments_lexer": "ipython3",
   "version": "3.10.4"
  },
  "orig_nbformat": 4,
  "vscode": {
   "interpreter": {
    "hash": "916dbcbb3f70747c44a77c7bcd40155683ae19c65e1c03b4aa3499c5328201f1"
   }
  }
 },
 "nbformat": 4,
 "nbformat_minor": 2
}
