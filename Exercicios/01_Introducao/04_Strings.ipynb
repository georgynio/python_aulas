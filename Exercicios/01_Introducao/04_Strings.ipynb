{
 "cells": [
  {
   "cell_type": "markdown",
   "metadata": {},
   "source": [
    "# Strings\n",
    "\n",
    "- aspas simples (')\n",
    "- aspas duplas (\")\n",
    "- aspas triplas (''')"
   ]
  },
  {
   "cell_type": "code",
   "execution_count": null,
   "metadata": {},
   "outputs": [],
   "source": [
    "# Aspas simples\n",
    "a = 'A pressa é a inimiga da perfeição.'\n",
    "\n",
    "# Aspas duplas\n",
    "b = \"A corda sempre arrebenta do lado mais fraco.\"\n",
    "\n",
    "# Aspas triplas\n",
    "c = '''\n",
    "PEDRA NEGRA SOBRE PEDRA BRANCA (Cesar Vallejo)\n",
    "\n",
    "Morrerei em Paris com aguaceiros\n",
    "num dia de que já tenho a lembrança.\n",
    "Morrerei em Paris - daqui não saio -\n",
    "numa quinta-feira, como hoje, de outono.\n",
    "\n",
    "Quinta-feira será, pois hoje, quinta-feira,\n",
    "em que estes versos proso, dei os úmeros\n",
    "à pouca sorte, e nunca como hoje\n",
    "voltei,com todo o meu caminho, a ver-me só.\n",
    "\n",
    "Morreu César Vallejo, espancavam-no\n",
    "todos sem que lhes fizesse nada;\n",
    "davam-lhe forte com um pau e forte\n",
    "\n",
    "com uma corda também; são testemunhos\n",
    "as quintas-feiras e os ossos úmeros,\n",
    "a solidão, os caminhos, a chuva...\n",
    "'''"
   ]
  },
  {
   "cell_type": "markdown",
   "metadata": {},
   "source": [
    "Cuidado com o uso do mesmo tipo de aspas, para isso devemos usar o `\\`."
   ]
  },
  {
   "cell_type": "code",
   "execution_count": 1,
   "metadata": {},
   "outputs": [
    {
     "name": "stdout",
     "output_type": "stream",
     "text": [
      "Aspas simples 'dentro de aspas duplas'\n"
     ]
    }
   ],
   "source": [
    "a = \"Aspas simples 'dentro de aspas duplas'\"\n",
    "print(a)"
   ]
  },
  {
   "cell_type": "code",
   "execution_count": 2,
   "metadata": {},
   "outputs": [
    {
     "ename": "SyntaxError",
     "evalue": "invalid syntax (1610774505.py, line 1)",
     "output_type": "error",
     "traceback": [
      "\u001b[0;36m  Input \u001b[0;32mIn [2]\u001b[0;36m\u001b[0m\n\u001b[0;31m    b = 'Aspas simples 'dentro de aspas simples''   # errado\u001b[0m\n\u001b[0m                        ^\u001b[0m\n\u001b[0;31mSyntaxError\u001b[0m\u001b[0;31m:\u001b[0m invalid syntax\n"
     ]
    }
   ],
   "source": [
    "b = 'Aspas simples 'dentro de aspas simples''   # errado\n",
    "print(b)\n"
   ]
  },
  {
   "cell_type": "code",
   "execution_count": 3,
   "metadata": {},
   "outputs": [
    {
     "name": "stdout",
     "output_type": "stream",
     "text": [
      "Aspas simples 'dentro de aspas simples'\n"
     ]
    }
   ],
   "source": [
    "b = 'Aspas simples \\'dentro de aspas simples\\'' # correto\n",
    "print(b)"
   ]
  },
  {
   "cell_type": "markdown",
   "metadata": {},
   "source": [
    "Códigos de escape"
   ]
  },
  {
   "cell_type": "code",
   "execution_count": 5,
   "metadata": {},
   "outputs": [
    {
     "name": "stdout",
     "output_type": "stream",
     "text": [
      "PEDRA NEGRA SOBRE PEDRA BRANCA (Cesar Vallejo) \n",
      "Morrerei em Paris com aguaceiros\n",
      "num dia de que já tenho a lembrança.\n",
      "Morrerei em Paris - daqui não saio -\n",
      "numa quinta-feira, como hoje, de outono.\n",
      "\n",
      "Quinta-feira será, pois hoje, quinta-feira,\n",
      "em que estes versos proso, dei os úmeros\n",
      "à pouca sorte, e nunca como hoje\n",
      "voltei,com todo o meu caminho, a ver-me só.\n",
      "\n",
      "Morreu César Vallejo, espancavam-no\n",
      "todos sem que lhes fizesse nada;\n",
      "davam-lhe forte com um pau e forte\n",
      "\n",
      "com uma corda também; são testemunhos\n",
      "as quintas-feiras e os ossos úmeros,\n",
      "a solidão, os caminhos, a chuva...\n",
      "\n"
     ]
    }
   ],
   "source": [
    "a = ('PEDRA NEGRA SOBRE PEDRA BRANCA (Cesar Vallejo) \\n'\\\n",
    "    'Morrerei em Paris com aguaceiros\\n'\\\n",
    "    'num dia de que já tenho a lembrança.\\n'\\\n",
    "    'Morrerei em Paris - daqui não saio -\\n'\\\n",
    "    'numa quinta-feira, como hoje, de outono.\\n\\n'\\\n",
    "\n",
    "    'Quinta-feira será, pois hoje, quinta-feira,\\n'\\\n",
    "    'em que estes versos proso, dei os úmeros\\n'\\\n",
    "    'à pouca sorte, e nunca como hoje\\n'\\\n",
    "    'voltei,com todo o meu caminho, a ver-me só.\\n\\n'\\\n",
    "\n",
    "    'Morreu César Vallejo, espancavam-no\\n'\\\n",
    "    'todos sem que lhes fizesse nada;\\n'\\\n",
    "    'davam-lhe forte com um pau e forte\\n\\n'\\\n",
    "\n",
    "    'com uma corda também; são testemunhos\\n'\\\n",
    "    'as quintas-feiras e os ossos úmeros,\\n'\\\n",
    "    'a solidão, os caminhos, a chuva...\\n')\n",
    "print(a)"
   ]
  },
  {
   "cell_type": "markdown",
   "metadata": {},
   "source": [
    "## Operações"
   ]
  },
  {
   "cell_type": "code",
   "execution_count": 8,
   "metadata": {},
   "outputs": [
    {
     "name": "stdout",
     "output_type": "stream",
     "text": [
      "b = a[0], retorna ->  H\n",
      "c = a[4], retorna ->  o\n",
      "d = a[-1], retorna ->  d\n",
      "-:--:--:--:--:--:--:--:--:--:-\n",
      "H\n",
      "e\n",
      "l\n",
      "l\n",
      "o\n",
      " \n",
      "w\n",
      "o\n",
      "r\n",
      "l\n",
      "d\n"
     ]
    }
   ],
   "source": [
    "a = 'Hello world'\n",
    "b = a[0]          # 'H'\n",
    "print('b = a[0], retorna -> ', b)\n",
    "c = a[4]          # 'o'\n",
    "print('c = a[4], retorna -> ', c)\n",
    "d = a[-1]         # 'd'\n",
    "print('d = a[-1], retorna -> ', d)\n",
    "\n",
    "print('-:-'*10)\n",
    "\n",
    "for i in a:\n",
    "    print(i)"
   ]
  },
  {
   "cell_type": "markdown",
   "metadata": {},
   "source": [
    "## f-strings"
   ]
  },
  {
   "cell_type": "code",
   "execution_count": 9,
   "metadata": {},
   "outputs": [
    {
     "name": "stdout",
     "output_type": "stream",
     "text": [
      "b = a[0], retorna -> H\n",
      "c = a[4], retorna -> o\n",
      "d = a[-1], retorna -> d\n"
     ]
    }
   ],
   "source": [
    "a = 'Hello world'\n",
    "b = a[0]          # 'H'\n",
    "print(f'b = a[0], retorna -> {b}')\n",
    "c = a[4]          # 'o'\n",
    "print(f'c = a[4], retorna -> {c}')\n",
    "d = a[-1]         # 'd'\n",
    "print(f'd = a[-1], retorna -> {d}')"
   ]
  },
  {
   "cell_type": "markdown",
   "metadata": {},
   "source": [
    "Exercicios:\n",
    "- Escreva seu nome com todas as letras minusculas, maiusculas, apenas a primeira letra em maiuscula. \n",
    "\n",
    "- Escreva a tabela de multiplicação utilizando f-strings"
   ]
  },
  {
   "cell_type": "code",
   "execution_count": null,
   "metadata": {},
   "outputs": [],
   "source": [
    "# escreva seu nome com todas as letras minusculas\n",
    "nome = ...\n",
    "print(nome)\n",
    "\n",
    "# utilize os métodos das strings para converter em maiuscula\n",
    "...\n",
    "\n",
    "# Converte a primeira letra em maiuscula\n"
   ]
  },
  {
   "cell_type": "code",
   "execution_count": null,
   "metadata": {},
   "outputs": [],
   "source": [
    "# tabela de multiplicação com f-strings\n",
    "numero = ...\n",
    "\n",
    "for i in range(1, 13):\n",
    "    print(...)"
   ]
  },
  {
   "cell_type": "markdown",
   "metadata": {},
   "source": [
    "## Retorno ao [sumário](./Resumo.md)"
   ]
  }
 ],
 "metadata": {
  "kernelspec": {
   "display_name": "Python 3.10.4 64-bit",
   "language": "python",
   "name": "python3"
  },
  "language_info": {
   "codemirror_mode": {
    "name": "ipython",
    "version": 3
   },
   "file_extension": ".py",
   "mimetype": "text/x-python",
   "name": "python",
   "nbconvert_exporter": "python",
   "pygments_lexer": "ipython3",
   "version": "3.8.10"
  },
  "orig_nbformat": 4,
  "vscode": {
   "interpreter": {
    "hash": "916dbcbb3f70747c44a77c7bcd40155683ae19c65e1c03b4aa3499c5328201f1"
   }
  }
 },
 "nbformat": 4,
 "nbformat_minor": 2
}
