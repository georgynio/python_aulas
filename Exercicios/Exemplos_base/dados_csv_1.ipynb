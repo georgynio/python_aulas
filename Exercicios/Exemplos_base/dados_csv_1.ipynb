{
 "cells": [
  {
   "cell_type": "markdown",
   "metadata": {},
   "source": [
    "# Analise de dados CSV (Comma-separated values)\n",
    "\n",
    "Arquivos de texto que faz ordenação dos dados numa linha, separando os valores por virgulas.\n",
    "> Utilizaremos funções simples para obter os dados e fazer as analises (`open`).\n"
   ]
  },
  {
   "cell_type": "code",
   "execution_count": 17,
   "metadata": {},
   "outputs": [],
   "source": [
    "with open('./../dados/VILA-VELHA-(A634).csv', 'r') as f:\n",
    "    cabecalho = next(f)\n",
    "    for line in f:\n",
    "        linha = line.split(';')"
   ]
  },
  {
   "cell_type": "code",
   "execution_count": 18,
   "metadata": {},
   "outputs": [
    {
     "data": {
      "text/plain": [
       "'VILA VELHA (A634);\\n'"
      ]
     },
     "execution_count": 18,
     "metadata": {},
     "output_type": "execute_result"
    }
   ],
   "source": [
    "cabecalho"
   ]
  },
  {
   "cell_type": "code",
   "execution_count": 19,
   "metadata": {},
   "outputs": [
    {
     "data": {
      "text/plain": [
       "'Data;Hora (UTC);Temp. Ins. (C);Temp. Max. (C);Temp. Min. (C);Umi. Ins. (%);Umi. Max. (%);Umi. Min. (%);Pto Orvalho Ins. (C);Pto Orvalho Max. (C);Pto Orvalho Min. (C);Pressao Ins. (hPa);Pressao Max. (hPa);Pressao Min. (hPa);Vel. Vento (m/s);Dir. Vento (m/s);Raj. Vento (m/s);Radiacao (KJ/m²);Chuva (mm);\\n'"
      ]
     },
     "execution_count": 19,
     "metadata": {},
     "output_type": "execute_result"
    }
   ],
   "source": [
    "csv_file"
   ]
  },
  {
   "cell_type": "code",
   "execution_count": null,
   "metadata": {},
   "outputs": [],
   "source": []
  }
 ],
 "metadata": {
  "kernelspec": {
   "display_name": "Python 3.10.4 ('python_aulas': venv)",
   "language": "python",
   "name": "python3"
  },
  "language_info": {
   "codemirror_mode": {
    "name": "ipython",
    "version": 3
   },
   "file_extension": ".py",
   "mimetype": "text/x-python",
   "name": "python",
   "nbconvert_exporter": "python",
   "pygments_lexer": "ipython3",
   "version": "3.10.4"
  },
  "orig_nbformat": 4,
  "vscode": {
   "interpreter": {
    "hash": "f565761bc3466c09e61fd6c158436d1d80be7935aec86c410a4c98cce3fe16c3"
   }
  }
 },
 "nbformat": 4,
 "nbformat_minor": 2
}
