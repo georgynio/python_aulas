{
 "cells": [
  {
   "cell_type": "markdown",
   "metadata": {},
   "source": [
    "# Analise de dados CSV (Comma-separated values)\n",
    "\n",
    "* Arquivos de texto que faz ordenação dos dados numa linha, separando os valores por virgulas."
   ]
  },
  {
   "cell_type": "code",
   "execution_count": null,
   "metadata": {},
   "outputs": [],
   "source": []
  }
 ],
 "metadata": {
  "kernelspec": {
   "display_name": "Python 3.10.4 ('python_aulas': venv)",
   "language": "python",
   "name": "python3"
  },
  "language_info": {
   "name": "python",
   "version": "3.10.4"
  },
  "orig_nbformat": 4,
  "vscode": {
   "interpreter": {
    "hash": "f565761bc3466c09e61fd6c158436d1d80be7935aec86c410a4c98cce3fe16c3"
   }
  }
 },
 "nbformat": 4,
 "nbformat_minor": 2
}
