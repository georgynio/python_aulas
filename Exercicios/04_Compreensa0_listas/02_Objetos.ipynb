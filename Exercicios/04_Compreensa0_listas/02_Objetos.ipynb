{
 "cells": [
  {
   "cell_type": "markdown",
   "metadata": {},
   "source": [
    "# Objetos\n",
    "\n",
    "> O Python não possui variáveis para armazenar dados, ao inveés disso, ele possui referências de objetos.\n",
    "\n",
    "```python\n",
    "x = 'blue'\n",
    "y = 'green'\n",
    "z = x\n",
    "```\n",
    "\n",
    "A sintaxe é **referência de objeto = valor**"
   ]
  },
  {
   "cell_type": "code",
   "execution_count": 3,
   "metadata": {},
   "outputs": [
    {
     "name": "stdout",
     "output_type": "stream",
     "text": [
      "True\n"
     ]
    }
   ],
   "source": [
    "x = 'blue'\n",
    "y = 'green'\n",
    "z = x\n",
    "print(z is x)"
   ]
  },
  {
   "cell_type": "code",
   "execution_count": 2,
   "metadata": {},
   "outputs": [
    {
     "name": "stdout",
     "output_type": "stream",
     "text": [
      "True\n"
     ]
    }
   ],
   "source": [
    "print(z == x)"
   ]
  },
  {
   "cell_type": "markdown",
   "metadata": {},
   "source": [
    "Como sabe o Python se um objeto é igual a outro?\n",
    "\n",
    "> Verifica a identidade dos objetos `id()`"
   ]
  },
  {
   "cell_type": "code",
   "execution_count": 6,
   "metadata": {},
   "outputs": [
    {
     "name": "stdout",
     "output_type": "stream",
     "text": [
      "140361475761392\n",
      "140361475761392\n"
     ]
    }
   ],
   "source": [
    "print(id(z))\n",
    "print(id(x))"
   ]
  },
  {
   "cell_type": "markdown",
   "metadata": {},
   "source": [
    "Os números tem identidade diferentes, enquanto as strings apresentam identidades iguais.\n",
    "* Strings: são imutáveis."
   ]
  },
  {
   "cell_type": "code",
   "execution_count": 8,
   "metadata": {},
   "outputs": [
    {
     "name": "stdout",
     "output_type": "stream",
     "text": [
      "Os inteiros:\n",
      "140361144100880\n",
      "140361144102384\n",
      "As strings:\n",
      "140361154676272\n",
      "140361154676272\n"
     ]
    }
   ],
   "source": [
    "x = 700\n",
    "y = 700\n",
    "\n",
    "print('Os inteiros:')\n",
    "print(id(x))\n",
    "print(id(y))\n",
    "\n",
    "# O python não cria objetos novos para objetos imutáveis\n",
    "a = 'Yan'\n",
    "b = 'Yan'\n",
    "\n",
    "print('As strings:')\n",
    "print(id(a))\n",
    "print(id(b))"
   ]
  },
  {
   "cell_type": "code",
   "execution_count": 31,
   "metadata": {},
   "outputs": [
    {
     "name": "stdout",
     "output_type": "stream",
     "text": [
      "id de li1: 140361154825216\n",
      "id de lin: 140361154825216\n",
      "->\n",
      "id de li1: 140361154825216\n",
      "id de lin: 140361154825216\n",
      "______________________________\n",
      "lista li1: [1, 2, [3, 5], 4, 9]\n",
      "lista lin: [1, 2, [3, 5], 4, 9]\n"
     ]
    }
   ],
   "source": [
    "# importando o modulo copy\n",
    "import copy\n",
    "  \n",
    "# inicializando a lista\n",
    "li1 = [1, 2, [3,5], 4]\n",
    "lin = li1\n",
    "print(f'id de li1: {id(li1)}')\n",
    "print(f'id de lin: {id(lin)}')\n",
    "lin.append(9)  # <---- append de um elemento na lista nova\n",
    "print('->')\n",
    "print(f'id de li1: {id(li1)}')\n",
    "print(f'id de lin: {id(lin)}') \n",
    "print('_'*30)\n",
    "print(f'lista li1: {li1}')\n",
    "print(f'lista lin: {lin}')\n"
   ]
  },
  {
   "cell_type": "code",
   "execution_count": 35,
   "metadata": {},
   "outputs": [
    {
     "name": "stdout",
     "output_type": "stream",
     "text": [
      "id de li1: 140361154825216\n",
      "id de lin: 140361154831616\n",
      "->\n",
      "id de li1: 140361154825216\n",
      "id de li2: 140361154831616\n",
      "______________________________\n",
      "lista li1: [1, 2, [3, 5], 4, 9]\n",
      "lista li2: [1, 2, [3, 5], 4, 9, 4]\n"
     ]
    }
   ],
   "source": [
    "  \n",
    "# utilizando copia raza  \n",
    "li2 = copy.deepcopy(li1) \n",
    "print(f'id de li1: {id(li1)}')\n",
    "print(f'id de lin: {id(li2)}') \n",
    "li2.append(4)\n",
    "print('->')\n",
    "print(f'id de li1: {id(li1)}')\n",
    "print(f'id de li2: {id(li2)}') \n",
    "print('_'*30)\n",
    "print(f'lista li1: {li1}')\n",
    "print(f'lista li2: {li2}')"
   ]
  },
  {
   "cell_type": "markdown",
   "metadata": {},
   "source": [
    "## Retorno ao [Resumo](./Resumo.md)"
   ]
  }
 ],
 "metadata": {
  "kernelspec": {
   "display_name": "Python 3.10.4 ('python_aulas')",
   "language": "python",
   "name": "python3"
  },
  "language_info": {
   "codemirror_mode": {
    "name": "ipython",
    "version": 3
   },
   "file_extension": ".py",
   "mimetype": "text/x-python",
   "name": "python",
   "nbconvert_exporter": "python",
   "pygments_lexer": "ipython3",
   "version": "3.10.4"
  },
  "orig_nbformat": 4,
  "vscode": {
   "interpreter": {
    "hash": "76becbad65c29d2a53ef53c6ea154220fa89cbbe6b9480974527875e9a68c16f"
   }
  }
 },
 "nbformat": 4,
 "nbformat_minor": 2
}
