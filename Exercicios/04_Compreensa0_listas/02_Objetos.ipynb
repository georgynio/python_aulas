{
 "cells": [
  {
   "cell_type": "markdown",
   "metadata": {},
   "source": [
    "# Objetos\n",
    "\n",
    "> O Python não possui variáveis para armazenar dados, ao inveés disso, ele possui referências de objetos.\n",
    "\n",
    "```python\n",
    "x = 'blue'\n",
    "y = 'green'\n",
    "z = x\n",
    "```\n",
    "\n",
    "A sintaxe é **referência de objeto = valor**"
   ]
  },
  {
   "cell_type": "code",
   "execution_count": 3,
   "metadata": {},
   "outputs": [
    {
     "name": "stdout",
     "output_type": "stream",
     "text": [
      "True\n"
     ]
    }
   ],
   "source": [
    "x = 'blue'\n",
    "y = 'green'\n",
    "z = x\n",
    "print(z is x)"
   ]
  },
  {
   "cell_type": "code",
   "execution_count": 2,
   "metadata": {},
   "outputs": [
    {
     "name": "stdout",
     "output_type": "stream",
     "text": [
      "True\n"
     ]
    }
   ],
   "source": [
    "print(z == x)"
   ]
  },
  {
   "cell_type": "markdown",
   "metadata": {},
   "source": [
    "Como sabe o Python se um objeto é igual a outro?\n",
    "\n",
    "> Verifica a identidade dos objetos `id()`"
   ]
  },
  {
   "cell_type": "code",
   "execution_count": 6,
   "metadata": {},
   "outputs": [
    {
     "name": "stdout",
     "output_type": "stream",
     "text": [
      "140361475761392\n",
      "140361475761392\n"
     ]
    }
   ],
   "source": [
    "print(id(z))\n",
    "print(id(x))"
   ]
  },
  {
   "cell_type": "markdown",
   "metadata": {},
   "source": [
    "Os números tem identidade diferentes, enquanto as strings apresentam identidades iguais.\n",
    "* Strings: são imutáveis."
   ]
  },
  {
   "cell_type": "code",
   "execution_count": 8,
   "metadata": {},
   "outputs": [
    {
     "name": "stdout",
     "output_type": "stream",
     "text": [
      "Os inteiros:\n",
      "140361144100880\n",
      "140361144102384\n",
      "As strings:\n",
      "140361154676272\n",
      "140361154676272\n"
     ]
    }
   ],
   "source": [
    "x = 700\n",
    "y = 700\n",
    "\n",
    "print('Os inteiros:')\n",
    "print(id(x))\n",
    "print(id(y))\n",
    "\n",
    "# O python não cria objetos novos para objetos imutáveis\n",
    "a = 'Yan'\n",
    "b = 'Yan'\n",
    "\n",
    "print('As strings:')\n",
    "print(id(a))\n",
    "print(id(b))"
   ]
  },
  {
   "cell_type": "code",
   "execution_count": null,
   "metadata": {},
   "outputs": [],
   "source": []
  },
  {
   "cell_type": "markdown",
   "metadata": {},
   "source": [
    "## Retorno ao [Resumo](./Resumo.md)"
   ]
  }
 ],
 "metadata": {
  "kernelspec": {
   "display_name": "Python 3.10.4 ('python_aulas')",
   "language": "python",
   "name": "python3"
  },
  "language_info": {
   "codemirror_mode": {
    "name": "ipython",
    "version": 3
   },
   "file_extension": ".py",
   "mimetype": "text/x-python",
   "name": "python",
   "nbconvert_exporter": "python",
   "pygments_lexer": "ipython3",
   "version": "3.10.4"
  },
  "orig_nbformat": 4,
  "vscode": {
   "interpreter": {
    "hash": "76becbad65c29d2a53ef53c6ea154220fa89cbbe6b9480974527875e9a68c16f"
   }
  }
 },
 "nbformat": 4,
 "nbformat_minor": 2
}
