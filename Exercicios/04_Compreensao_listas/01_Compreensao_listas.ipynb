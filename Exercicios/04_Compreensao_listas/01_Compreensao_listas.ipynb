{
 "cells": [
  {
   "cell_type": "markdown",
   "metadata": {},
   "source": [
    "# Compreensão de listas\n",
    "\n",
    "Consiste em expresões contidos em colchetes, cria uma lista com base nos valores que recebe.\n",
    "\n",
    "```python\n",
    "novaLista = [expresão(elemento) for elemento in listaAntiga if condição]\n",
    "```"
   ]
  },
  {
   "cell_type": "code",
   "execution_count": 1,
   "metadata": {},
   "outputs": [
    {
     "name": "stdout",
     "output_type": "stream",
     "text": [
      "['maçã', 'banana', 'cereja', 'kiwi', 'morango']\n"
     ]
    }
   ],
   "source": [
    "frutas = ['maçã', 'banana', 'cereja', 'kiwi', 'morango']\n",
    "novaLista = []\n",
    "for fruta in frutas:\n",
    "    novaLista.append(fruta)\n",
    "\n",
    "print(novaLista)"
   ]
  },
  {
   "cell_type": "markdown",
   "metadata": {},
   "source": [
    "Escreva a lista utilizando a compreensão de listas."
   ]
  },
  {
   "cell_type": "code",
   "execution_count": 2,
   "metadata": {},
   "outputs": [
    {
     "name": "stdout",
     "output_type": "stream",
     "text": [
      "['maçã', 'banana', 'cereja', 'kiwi', 'morango']\n"
     ]
    }
   ],
   "source": [
    "frutas = ['maçã', 'banana', 'cereja', 'kiwi', 'morango']\n",
    "novaLista = [...]\n",
    "\n",
    "print(novaLista)"
   ]
  },
  {
   "cell_type": "markdown",
   "metadata": {},
   "source": [
    "Escreva o nome da fruta se a fruta tem \"a\" dentro do nome."
   ]
  },
  {
   "cell_type": "code",
   "execution_count": 3,
   "metadata": {},
   "outputs": [
    {
     "name": "stdout",
     "output_type": "stream",
     "text": [
      "['maçã', 'banana', 'cereja', 'morango']\n"
     ]
    }
   ],
   "source": [
    "frutas = ['maçã', 'banana', 'cereja', 'kiwi', 'morango']\n",
    "novaLista = [...]\n",
    "\n",
    "print(novaLista)"
   ]
  },
  {
   "cell_type": "markdown",
   "metadata": {},
   "source": [
    "Fazer a tabuada de multiplicação utilizando a compreensão de listas."
   ]
  },
  {
   "cell_type": "code",
   "execution_count": 6,
   "metadata": {},
   "outputs": [
    {
     "name": "stdout",
     "output_type": "stream",
     "text": [
      "\n",
      "Tabuada de multiplicação\n",
      "[[5, 1, 5], [5, 2, 10], [5, 3, 15], [5, 4, 20], [5, 5, 25], [5, 6, 30], [5, 7, 35], [5, 8, 40], [5, 9, 45], [5, 10, 50]]\n"
     ]
    }
   ],
   "source": [
    "a = 5\n",
    "tabuada = [[a, b, a * b] for ... in ...] \n",
    "  \n",
    "print(\"\\nTabuada de multiplicação\") \n",
    "for prod in tabuada:\n",
    "    print(prod)"
   ]
  },
  {
   "cell_type": "markdown",
   "metadata": {},
   "source": [
    "Salva o elemento numa lista se é númerico."
   ]
  },
  {
   "cell_type": "code",
   "execution_count": 7,
   "metadata": {},
   "outputs": [
    {
     "name": "stdout",
     "output_type": "stream",
     "text": [
      "\n",
      "Extrair os digtos\n",
      "['2', '7', '9', '9', '2', '6', '5', '4']\n"
     ]
    }
   ],
   "source": [
    "string =\"meu número de celular e: 27992654!!\"\n",
    "  \n",
    "print(\"\\nExtrair os digtos\") \n",
    "# numbers = [x for x in string if x.isdigit()] \n",
    "print (numbers) "
   ]
  },
  {
   "cell_type": "markdown",
   "metadata": {},
   "source": [
    "## Retorno ao [Resumo](./Resumo.md)"
   ]
  }
 ],
 "metadata": {
  "kernelspec": {
   "display_name": "Python 3.10.4 ('python_aulas')",
   "language": "python",
   "name": "python3"
  },
  "language_info": {
   "codemirror_mode": {
    "name": "ipython",
    "version": 3
   },
   "file_extension": ".py",
   "mimetype": "text/x-python",
   "name": "python",
   "nbconvert_exporter": "python",
   "pygments_lexer": "ipython3",
   "version": "3.10.4"
  },
  "orig_nbformat": 4,
  "vscode": {
   "interpreter": {
    "hash": "76becbad65c29d2a53ef53c6ea154220fa89cbbe6b9480974527875e9a68c16f"
   }
  }
 },
 "nbformat": 4,
 "nbformat_minor": 2
}
