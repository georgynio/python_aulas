{
 "cells": [
  {
   "cell_type": "markdown",
   "metadata": {},
   "source": [
    "# Erros e exceções"
   ]
  },
  {
   "cell_type": "code",
   "execution_count": 1,
   "metadata": {},
   "outputs": [
    {
     "name": "stdout",
     "output_type": "stream",
     "text": [
      "Ocorreu uma exceção!\n"
     ]
    }
   ],
   "source": [
    "# explicar o que esta acontecendo nesse trecho de codigo\n",
    "try:\n",
    "  print(x)\n",
    "except:\n",
    "  print(\"Ocorreu uma exceção!\")\n"
   ]
  },
  {
   "cell_type": "code",
   "execution_count": 2,
   "metadata": {},
   "outputs": [
    {
     "ename": "NameError",
     "evalue": "name 'x' is not defined",
     "output_type": "error",
     "traceback": [
      "\u001b[0;31m---------------------------------------------------------------------------\u001b[0m",
      "\u001b[0;31mNameError\u001b[0m                                 Traceback (most recent call last)",
      "\u001b[1;32m/home/georgynio/Envs/python_aulas/python_aulas/Exercicios/05_Matplotlib/01_exceptions.ipynb Cell 3\u001b[0m in \u001b[0;36m<cell line: 1>\u001b[0;34m()\u001b[0m\n\u001b[0;32m----> <a href='vscode-notebook-cell:/home/georgynio/Envs/python_aulas/python_aulas/Exercicios/05_Matplotlib/01_exceptions.ipynb#X11sZmlsZQ%3D%3D?line=0'>1</a>\u001b[0m \u001b[39mprint\u001b[39m(x)\n",
      "\u001b[0;31mNameError\u001b[0m: name 'x' is not defined"
     ]
    }
   ],
   "source": [
    "print(x)"
   ]
  },
  {
   "cell_type": "code",
   "execution_count": 3,
   "metadata": {},
   "outputs": [
    {
     "name": "stdout",
     "output_type": "stream",
     "text": [
      "Tem algo errado\n"
     ]
    }
   ],
   "source": [
    "try:\n",
    "    x > 3\n",
    "except:\n",
    "    print(\"Tem algo errado\")"
   ]
  },
  {
   "cell_type": "code",
   "execution_count": 4,
   "metadata": {},
   "outputs": [
    {
     "ename": "NameError",
     "evalue": "name 'x' is not defined",
     "output_type": "error",
     "traceback": [
      "\u001b[0;31m---------------------------------------------------------------------------\u001b[0m",
      "\u001b[0;31mNameError\u001b[0m                                 Traceback (most recent call last)",
      "\u001b[1;32m/home/georgynio/Envs/python_aulas/python_aulas/Exercicios/05_Matplotlib/01_exceptions.ipynb Cell 5\u001b[0m in \u001b[0;36m<cell line: 1>\u001b[0;34m()\u001b[0m\n\u001b[0;32m----> <a href='vscode-notebook-cell:/home/georgynio/Envs/python_aulas/python_aulas/Exercicios/05_Matplotlib/01_exceptions.ipynb#X12sZmlsZQ%3D%3D?line=0'>1</a>\u001b[0m x\u001b[39m>\u001b[39m\u001b[39m3\u001b[39m\n",
      "\u001b[0;31mNameError\u001b[0m: name 'x' is not defined"
     ]
    }
   ],
   "source": [
    "x>3"
   ]
  },
  {
   "cell_type": "code",
   "execution_count": 6,
   "metadata": {},
   "outputs": [
    {
     "name": "stdout",
     "output_type": "stream",
     "text": [
      "Erro de nome: name 'x' is not defined\n"
     ]
    }
   ],
   "source": [
    "# reescreva o trecho anterior capturando a exceção adequada\n",
    "try:\n",
    "  print(x)\n",
    "except NameError as e:\n",
    "  print(f\"Erro de nome: {e}\")\n"
   ]
  },
  {
   "cell_type": "code",
   "execution_count": 7,
   "metadata": {},
   "outputs": [
    {
     "name": "stdout",
     "output_type": "stream",
     "text": [
      "You are comparing values of different type\n"
     ]
    }
   ],
   "source": [
    "x = \"hello\"\n",
    "\n",
    "try:\n",
    "    x > 3\n",
    "except NameError:\n",
    "    print(\"You have a variable that is not defined.\")\n",
    "except TypeError:\n",
    "    print(\"You are comparing values of different type\")"
   ]
  },
  {
   "cell_type": "code",
   "execution_count": 6,
   "metadata": {},
   "outputs": [
    {
     "ename": "TypeError",
     "evalue": "Only   integers are allowed",
     "output_type": "error",
     "traceback": [
      "\u001b[0;31m---------------------------------------------------------------------------\u001b[0m",
      "\u001b[0;31mTypeError\u001b[0m                                 Traceback (most recent call last)",
      "\u001b[1;32m/home/georgynio/Envs/python_aulas/src/Exercicios/05_Matplotlib/01_exceptions.ipynb Cell 4\u001b[0m in \u001b[0;36m<cell line: 3>\u001b[0;34m()\u001b[0m\n\u001b[1;32m      <a href='vscode-notebook-cell:/home/georgynio/Envs/python_aulas/src/Exercicios/05_Matplotlib/01_exceptions.ipynb#W3sZmlsZQ%3D%3D?line=0'>1</a>\u001b[0m x \u001b[39m=\u001b[39m \u001b[39m\"\u001b[39m\u001b[39mhello\u001b[39m\u001b[39m\"\u001b[39m\n\u001b[1;32m      <a href='vscode-notebook-cell:/home/georgynio/Envs/python_aulas/src/Exercicios/05_Matplotlib/01_exceptions.ipynb#W3sZmlsZQ%3D%3D?line=2'>3</a>\u001b[0m \u001b[39mif\u001b[39;00m \u001b[39mnot\u001b[39;00m \u001b[39mtype\u001b[39m(x) \u001b[39mis\u001b[39;00m \u001b[39mint\u001b[39m:\n\u001b[0;32m----> <a href='vscode-notebook-cell:/home/georgynio/Envs/python_aulas/src/Exercicios/05_Matplotlib/01_exceptions.ipynb#W3sZmlsZQ%3D%3D?line=3'>4</a>\u001b[0m     \u001b[39mraise\u001b[39;00m \u001b[39mTypeError\u001b[39;00m(\u001b[39m\"\u001b[39m\u001b[39mOnly   integers are allowed\u001b[39m\u001b[39m\"\u001b[39m)\n",
      "\u001b[0;31mTypeError\u001b[0m: Only   integers are allowed"
     ]
    }
   ],
   "source": [
    "# explicar o que esta acontecendo\n",
    "x = \"hello\"\n",
    "\n",
    "if not type(x) is int:\n",
    "    raise TypeError(\"Apenas inteiros devem ser mostrados\")"
   ]
  },
  {
   "cell_type": "code",
   "execution_count": null,
   "metadata": {},
   "outputs": [],
   "source": [
    "# crie um trecho de codigo no qual capture um erro de syntaxe."
   ]
  },
  {
   "cell_type": "code",
   "execution_count": null,
   "metadata": {},
   "outputs": [],
   "source": []
  }
 ],
 "metadata": {
  "kernelspec": {
   "display_name": "Python 3.9.13 ('python_aulas': venv)",
   "language": "python",
   "name": "python3"
  },
  "language_info": {
   "codemirror_mode": {
    "name": "ipython",
    "version": 3
   },
   "file_extension": ".py",
   "mimetype": "text/x-python",
   "name": "python",
   "nbconvert_exporter": "python",
   "pygments_lexer": "ipython3",
   "version": "3.10.4"
  },
  "orig_nbformat": 4,
  "vscode": {
   "interpreter": {
    "hash": "f565761bc3466c09e61fd6c158436d1d80be7935aec86c410a4c98cce3fe16c3"
   }
  }
 },
 "nbformat": 4,
 "nbformat_minor": 2
}
